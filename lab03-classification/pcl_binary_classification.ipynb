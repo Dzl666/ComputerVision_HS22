{
 "cells": [
  {
   "cell_type": "markdown",
   "metadata": {},
   "source": [
    "# Point Cloud Binary Classification with PyTorch"
   ]
  },
  {
   "cell_type": "markdown",
   "metadata": {},
   "source": [
    "Make sure you are using the `dl4cv` conda environment."
   ]
  },
  {
   "cell_type": "markdown",
   "metadata": {},
   "source": [
    "## Dataset loading and visualization"
   ]
  },
  {
   "cell_type": "markdown",
   "metadata": {},
   "source": [
    "The input X contain 100 2D points, and y are their corresponding labels (0 or 1). The goal is to train a model that can classify every point to its correct label.\n"
   ]
  },
  {
   "cell_type": "code",
   "execution_count": 1,
   "metadata": {},
   "outputs": [
    {
     "data": {
      "image/png": "[encoded data removed]",
      "text/plain": [
       "<Figure size 640x480 with 1 Axes>"
      ]
     },
     "metadata": {},
     "output_type": "display_data"
    },
    {
     "data": {
      "text/plain": [
       "<Figure size 640x480 with 0 Axes>"
      ]
     },
     "metadata": {},
     "output_type": "display_data"
    }
   ],
   "source": [
    "%matplotlib inline\n",
    "import matplotlib.pyplot as plt\n",
    "import numpy as np\n",
    "import torch\n",
    "import torch.nn as nn\n",
    "import torch.nn.functional as F\n",
    "import torch.optim as optim\n",
    "from torch.utils.data import Dataset\n",
    "from torch.utils.data import DataLoader\n",
    "from torch.optim import Adam\n",
    "\n",
    "dataset = np.load('data/2d_pcl_dataset.npz')\n",
    "X, y = dataset['X'], dataset['y']\n",
    "\n",
    "X0 = X[y==0] # 50 2D points have label 0\n",
    "X1 = X[y==1] # 50 2D points have label 1\n",
    "\n",
    "def plot(X0, X1, fit_param=None):\n",
    "    plt.scatter(X0[:,0], X0[:,1], color='red', label=0)\n",
    "    plt.scatter(X1[:,0], X1[:,1], color='blue', label=1)\n",
    "    \n",
    "    plt.xlim([-0.55, 0.55])\n",
    "    plt.ylim([-0.35, 0.25])\n",
    "    plt.legend()\n",
    "    plt.show()\n",
    "    plt.clf()\n",
    "\n",
    "plot(X0, X1)"
   ]
  },
  {
   "cell_type": "markdown",
   "metadata": {},
   "source": [
    "## Logistic Regression for the point cloud classification task\n"
   ]
  },
  {
   "cell_type": "markdown",
   "metadata": {},
   "source": [
    "Starting by filling in the `Simple2DDataset` class below. First, in the class constructore `__init__`, you will need to read the right `2d_pcl_dataset.npz` from disk.\n",
    "\n",
    "Second, in the `__getitem__`, you will need to take a single data point and its label based on its index `idx`"
   ]
  },
  {
   "cell_type": "code",
   "execution_count": 2,
   "metadata": {},
   "outputs": [],
   "source": [
    "class Simple2DDataset(Dataset):\n",
    "    def __init__(self):\n",
    "        super().__init__()\n",
    "        #########################################################################\n",
    "        # TODO: read data from disk using np.load.\n",
    "        # Data is located in the folder \"data\".\n",
    "        # Save samples and labels to class members self.X and self.y respectively.\n",
    "        # samples should be an Nx2 numpy array. Labels should be Nx1.\n",
    "        #########################################################################\n",
    "        dataset = np.load('data/2d_pcl_dataset.npz')\n",
    "        self.X = dataset['X']\n",
    "        self.y = dataset['y']\n",
    "     \n",
    "    def __len__(self):\n",
    "        # Returns the number of samples in the dataset.\n",
    "        return self.X.shape[0]\n",
    "    \n",
    "    def __getitem__(self, idx):\n",
    "        #########################################################################\n",
    "        # TODO: return the sample and label with index idx\n",
    "        #########################################################################\n",
    "        point = X[idx]\n",
    "        label = y[idx]\n",
    "        # Convert to tensor.\n",
    "        return torch.from_numpy(point).float(), \\\n",
    "               torch.from_numpy(label[np.newaxis]).float()\n"
   ]
  },
  {
   "cell_type": "markdown",
   "metadata": {},
   "source": [
    "With the complete `Simple2DDataset`, we can create a PyTorch dataloader\n",
    "\n",
    "**NOTE**: if you encounter some unexpected errors in data loading, try setting `NUM_WORKERS = 0`"
   ]
  },
  {
   "cell_type": "code",
   "execution_count": 7,
   "metadata": {},
   "outputs": [],
   "source": [
    "BATCH_SIZE = 8\n",
    "NUM_WORKERS = 0\n",
    "\n",
    "# create the dataloader\n",
    "dataset = Simple2DDataset()\n",
    "train_dataloader = DataLoader(dataset, batch_size=BATCH_SIZE, num_workers=NUM_WORKERS, shuffle=True)"
   ]
  },
  {
   "cell_type": "markdown",
   "metadata": {},
   "source": [
    "Now, define your first network by filling in the `LinearClassifier` class below.\n",
    "\n",
    "Add a single linear layer `nn.Linear` inside the `nn.Sequential` call. The input is 2D, and the output should be a single value, corresponding to the probability of a given 2D point being part of cluster 0."
   ]
  },
  {
   "cell_type": "code",
   "execution_count": 8,
   "metadata": {},
   "outputs": [],
   "source": [
    "class LinearClassifier(nn.Module):\n",
    "    def __init__(self):\n",
    "        super().__init__()\n",
    "\n",
    "        self.codename = 'linear'\n",
    "\n",
    "        #########################################################################\n",
    "        # TODO: add a single linear layer with nn.Linear, inside the `nn.Sequential` call.\n",
    "        # Input is 2D.\n",
    "        # Output is a single value.\n",
    "        #########################################################################\n",
    "        self.model = nn.Sequential(\n",
    "            nn.Linear(2, 1, bias=True)\n",
    "        )\n",
    "        \n",
    "    def forward(self, batch):\n",
    "        # Process batch using the defined model.\n",
    "        x = self.model(batch)\n",
    "        # Final sigmoid activation to obtain a probability between 0 and 1.\n",
    "        return torch.sigmoid(x)"
   ]
  },
  {
   "cell_type": "markdown",
   "metadata": {},
   "source": [
    "Now, you are asked to implement the training loop below"
   ]
  },
  {
   "cell_type": "code",
   "execution_count": 9,
   "metadata": {},
   "outputs": [],
   "source": [
    "def train(net, optimizer, dataloader, epoch):\n",
    "    net.train()\n",
    "    loss_sum = 0\n",
    "    for batch_idx, (point, label) in enumerate(dataloader):\n",
    "        # First we need to zero the gradient, otherwise PyTorch would accumulate them\n",
    "        optimizer.zero_grad()\n",
    "\n",
    "        #########################################################################\n",
    "        #TODO: \n",
    "        # 1. forward pass of the network to obtain the predictions given the batch\n",
    "        # 2. compute the loss using F.binary_cross_entropy\n",
    "        # 3. backward pass on the loss using loss.backward(), and one step \n",
    "        # of gradient descent (optimization) using optimizer.step()\n",
    "        #########################################################################\n",
    "        output = net.forward(point)\n",
    "        loss = F.binary_cross_entropy(output, label)\n",
    "        loss.backward()\n",
    "        optimizer.step()\n",
    "        loss_sum += loss\n",
    "\n",
    "    return loss_sum\n",
    "        "
   ]
  },
  {
   "cell_type": "markdown",
   "metadata": {},
   "source": [
    "You can now run below to train the linear model."
   ]
  },
  {
   "cell_type": "code",
   "execution_count": 10,
   "metadata": {
    "scrolled": true,
    "tags": []
   },
   "outputs": [
    {
     "name": "stdout",
     "output_type": "stream",
     "text": [
      "[Epoch 01] Loss: 8.6397\n",
      "[Epoch 02] Loss: 6.7890\n",
      "[Epoch 03] Loss: 5.7478\n",
      "[Epoch 04] Loss: 5.1400\n",
      "[Epoch 05] Loss: 4.8895\n",
      "[Epoch 06] Loss: 4.5216\n",
      "[Epoch 07] Loss: 4.4036\n",
      "[Epoch 08] Loss: 4.2053\n",
      "[Epoch 09] Loss: 4.0910\n",
      "[Epoch 10] Loss: 4.0107\n",
      "[Epoch 11] Loss: 3.8806\n",
      "[Epoch 12] Loss: 3.9160\n",
      "[Epoch 13] Loss: 4.0444\n",
      "[Epoch 14] Loss: 3.9377\n",
      "[Epoch 15] Loss: 3.7463\n",
      "[Epoch 16] Loss: 3.7452\n",
      "[Epoch 17] Loss: 3.8078\n",
      "[Epoch 18] Loss: 3.8002\n",
      "[Epoch 19] Loss: 3.5924\n",
      "[Epoch 20] Loss: 3.5904\n",
      "[Epoch 21] Loss: 3.7538\n",
      "[Epoch 22] Loss: 3.5808\n",
      "[Epoch 23] Loss: 3.5818\n",
      "[Epoch 24] Loss: 3.6775\n",
      "[Epoch 25] Loss: 3.5977\n",
      "[Epoch 26] Loss: 3.7684\n",
      "[Epoch 27] Loss: 3.4886\n",
      "[Epoch 28] Loss: 3.5620\n",
      "[Epoch 29] Loss: 3.5996\n",
      "[Epoch 30] Loss: 3.5591\n",
      "[Epoch 31] Loss: 3.6211\n",
      "[Epoch 32] Loss: 3.5106\n",
      "[Epoch 33] Loss: 3.7467\n",
      "[Epoch 34] Loss: 3.4569\n",
      "[Epoch 35] Loss: 3.5339\n",
      "[Epoch 36] Loss: 3.7034\n",
      "[Epoch 37] Loss: 3.5883\n",
      "[Epoch 38] Loss: 3.4474\n",
      "[Epoch 39] Loss: 3.4664\n",
      "[Epoch 40] Loss: 3.4791\n",
      "[Epoch 41] Loss: 3.7725\n",
      "[Epoch 42] Loss: 3.4523\n",
      "[Epoch 43] Loss: 3.4615\n",
      "[Epoch 44] Loss: 3.5454\n",
      "[Epoch 45] Loss: 3.9515\n",
      "[Epoch 46] Loss: 3.8052\n",
      "[Epoch 47] Loss: 3.4330\n",
      "[Epoch 48] Loss: 3.6540\n",
      "[Epoch 49] Loss: 3.6461\n",
      "[Epoch 50] Loss: 3.4579\n",
      "[Epoch 51] Loss: 3.4862\n",
      "[Epoch 52] Loss: 3.4748\n",
      "[Epoch 53] Loss: 3.6507\n",
      "[Epoch 54] Loss: 3.7011\n",
      "[Epoch 55] Loss: 3.4404\n",
      "[Epoch 56] Loss: 3.9296\n",
      "[Epoch 57] Loss: 3.4519\n",
      "[Epoch 58] Loss: 3.4972\n",
      "[Epoch 59] Loss: 3.6387\n",
      "[Epoch 60] Loss: 3.7971\n",
      "[Epoch 61] Loss: 3.7489\n",
      "[Epoch 62] Loss: 3.4544\n",
      "[Epoch 63] Loss: 3.7381\n",
      "[Epoch 64] Loss: 3.4948\n",
      "[Epoch 65] Loss: 3.4590\n",
      "[Epoch 66] Loss: 3.4937\n",
      "[Epoch 67] Loss: 3.4929\n",
      "[Epoch 68] Loss: 3.5567\n",
      "[Epoch 69] Loss: 3.5878\n",
      "[Epoch 70] Loss: 3.4833\n",
      "[Epoch 71] Loss: 3.4758\n",
      "[Epoch 72] Loss: 3.5465\n",
      "[Epoch 73] Loss: 3.5530\n",
      "[Epoch 74] Loss: 3.4750\n",
      "[Epoch 75] Loss: 3.7086\n",
      "[Epoch 76] Loss: 3.4476\n",
      "[Epoch 77] Loss: 3.5579\n",
      "[Epoch 78] Loss: 3.7498\n",
      "[Epoch 79] Loss: 3.4321\n",
      "[Epoch 80] Loss: 3.5155\n",
      "[Epoch 81] Loss: 3.7488\n",
      "[Epoch 82] Loss: 3.4443\n",
      "[Epoch 83] Loss: 3.6323\n",
      "[Epoch 84] Loss: 4.0188\n",
      "[Epoch 85] Loss: 3.4618\n",
      "[Epoch 86] Loss: 3.5463\n",
      "[Epoch 87] Loss: 3.4591\n",
      "[Epoch 88] Loss: 3.6183\n",
      "[Epoch 89] Loss: 3.5218\n",
      "[Epoch 90] Loss: 3.4453\n",
      "[Epoch 91] Loss: 3.4968\n",
      "[Epoch 92] Loss: 3.8774\n",
      "[Epoch 93] Loss: 3.8102\n",
      "[Epoch 94] Loss: 3.5998\n",
      "[Epoch 95] Loss: 3.7318\n",
      "[Epoch 96] Loss: 3.5211\n",
      "[Epoch 97] Loss: 3.4439\n",
      "[Epoch 98] Loss: 3.5239\n",
      "[Epoch 99] Loss: 4.0927\n",
      "[Epoch 100] Loss: 3.5352\n"
     ]
    }
   ],
   "source": [
    "NUM_EPOCHS = 100\n",
    "# create the network.\n",
    "net = LinearClassifier()\n",
    "\n",
    "# create the optimizer.\n",
    "optimizer = Adam(net.parameters(), lr=0.1)\n",
    "\n",
    "best_accuracy = 0\n",
    "for epoch_idx in range(NUM_EPOCHS):\n",
    "    loss = train(net, optimizer, train_dataloader, epoch_idx)\n",
    "    print('[Epoch %02d] Loss: %.4f' % (epoch_idx + 1, loss))"
   ]
  },
  {
   "cell_type": "markdown",
   "metadata": {},
   "source": [
    "Now plot your result below.\n"
   ]
  },
  {
   "cell_type": "code",
   "execution_count": 11,
   "metadata": {},
   "outputs": [
    {
     "data": {
      "image/png": "[encoded data removed]",
      "text/plain": [
       "<Figure size 640x480 with 1 Axes>"
      ]
     },
     "metadata": {},
     "output_type": "display_data"
    },
    {
     "data": {
      "text/plain": [
       "<Figure size 640x480 with 0 Axes>"
      ]
     },
     "metadata": {},
     "output_type": "display_data"
    }
   ],
   "source": [
    "p = np.linspace(-0.5, 0.5, 500)\n",
    "x_plot, y_plot = np.meshgrid(p, p)\n",
    "X_plot = np.stack((x_plot, y_plot), axis=2).reshape(-1, 2)\n",
    "X_plot = torch.from_numpy(X_plot).float()\n",
    "output = net(X_plot)\n",
    "output = output.detach().numpy()\n",
    "output = output.reshape(x_plot.shape[0], x_plot.shape[1])\n",
    "\n",
    "plt.contour(x_plot, y_plot, output, [0.5],\n",
    "                  colors=('k',),\n",
    "                  linewidths=(3,))\n",
    "plot(X0, X1)"
   ]
  },
  {
   "cell_type": "markdown",
   "metadata": {},
   "source": [
    "### Implement your first multi-layer perceptron (MLP) for point cloud classification\n",
    "Now you should notice that your logistic regression model cannot classify the point cloud correctly, and this is as expected :)  \n",
    "Therefore, we now ask you to implement an MLP for the same binary classification task."
   ]
  },
  {
   "cell_type": "code",
   "execution_count": 14,
   "metadata": {},
   "outputs": [],
   "source": [
    "# These are the parameters to be used\n",
    "nInput = 2\n",
    "nOutput = 1\n",
    "nHidden = 16\n",
    "act_fn = nn.ReLU()\n",
    "\n",
    "class MLP(nn.Module):\n",
    "    def __init__(self, nInput, nOutput, nHidden, act_fn):\n",
    "        super().__init__()\n",
    "\n",
    "        # Define the network layers in order.\n",
    "        # Input is 2D (nInput).\n",
    "        # Output is a single value (nOutput).\n",
    "        # Multiple linear layers each followed by a ReLU non-linearity (apart from the last).\n",
    "        #########################################################################\n",
    "        # TODO: add a two-layer MLP, inside the `nn.Sequential` call.\n",
    "        # Input is 2D.\n",
    "        # Output is a single value.\n",
    "\n",
    "        # Hint: unlike logistic regression where you need only one nn.Linear layer, \n",
    "        # here you will have two nn.Linear layers. After the first layer, we \n",
    "        # apply a ReLU activation function. The output is then passed to another \n",
    "        # linear layer. Note that you should use `nHidden` below as the hidden dimension \n",
    "        # of your linear layers.\n",
    "        #########################################################################\n",
    "        layers = [\n",
    "            nn.Linear(nInput, nHidden, bias=True),\n",
    "            act_fn,\n",
    "            nn.Linear(nHidden, nOutput, bias=True)\n",
    "        ]\n",
    "        self.model = nn.Sequential(*layers)\n",
    "        \n",
    "    def forward(self, batch):\n",
    "        # Process batch using the defined model.\n",
    "        x = self.model(batch)\n",
    "        # Final sigmoid activation to obtain a probability.\n",
    "        return torch.sigmoid(x)"
   ]
  },
  {
   "cell_type": "markdown",
   "metadata": {},
   "source": [
    "Run below again!"
   ]
  },
  {
   "cell_type": "code",
   "execution_count": 15,
   "metadata": {},
   "outputs": [
    {
     "name": "stdout",
     "output_type": "stream",
     "text": [
      "[Epoch 01] Loss: 7.6535\n",
      "[Epoch 02] Loss: 4.7034\n",
      "[Epoch 03] Loss: 3.9257\n",
      "[Epoch 04] Loss: 4.2223\n",
      "[Epoch 05] Loss: 3.9850\n",
      "[Epoch 06] Loss: 3.6249\n",
      "[Epoch 07] Loss: 3.2986\n",
      "[Epoch 08] Loss: 4.1414\n",
      "[Epoch 09] Loss: 3.5337\n",
      "[Epoch 10] Loss: 2.9274\n",
      "[Epoch 11] Loss: 2.9128\n",
      "[Epoch 12] Loss: 3.2534\n",
      "[Epoch 13] Loss: 2.6370\n",
      "[Epoch 14] Loss: 2.4493\n",
      "[Epoch 15] Loss: 2.0770\n",
      "[Epoch 16] Loss: 1.8039\n",
      "[Epoch 17] Loss: 1.2762\n",
      "[Epoch 18] Loss: 1.1256\n",
      "[Epoch 19] Loss: 1.0793\n",
      "[Epoch 20] Loss: 1.4164\n",
      "[Epoch 21] Loss: 1.2128\n",
      "[Epoch 22] Loss: 0.8939\n",
      "[Epoch 23] Loss: 1.0572\n",
      "[Epoch 24] Loss: 0.8835\n",
      "[Epoch 25] Loss: 0.7070\n",
      "[Epoch 26] Loss: 0.5134\n",
      "[Epoch 27] Loss: 0.4011\n",
      "[Epoch 28] Loss: 0.3439\n",
      "[Epoch 29] Loss: 0.3365\n",
      "[Epoch 30] Loss: 0.2963\n",
      "[Epoch 31] Loss: 0.6053\n",
      "[Epoch 32] Loss: 0.8532\n",
      "[Epoch 33] Loss: 1.0349\n",
      "[Epoch 34] Loss: 1.3670\n",
      "[Epoch 35] Loss: 0.7940\n",
      "[Epoch 36] Loss: 0.9253\n",
      "[Epoch 37] Loss: 0.4507\n",
      "[Epoch 38] Loss: 0.4177\n",
      "[Epoch 39] Loss: 0.2556\n",
      "[Epoch 40] Loss: 0.2128\n",
      "[Epoch 41] Loss: 0.2039\n",
      "[Epoch 42] Loss: 0.1534\n",
      "[Epoch 43] Loss: 0.1454\n",
      "[Epoch 44] Loss: 0.1386\n",
      "[Epoch 45] Loss: 0.1243\n",
      "[Epoch 46] Loss: 0.1037\n",
      "[Epoch 47] Loss: 0.0958\n",
      "[Epoch 48] Loss: 0.0969\n",
      "[Epoch 49] Loss: 0.0822\n",
      "[Epoch 50] Loss: 0.0815\n",
      "[Epoch 51] Loss: 0.0776\n",
      "[Epoch 52] Loss: 0.0846\n",
      "[Epoch 53] Loss: 0.0904\n",
      "[Epoch 54] Loss: 0.0723\n",
      "[Epoch 55] Loss: 0.0667\n",
      "[Epoch 56] Loss: 0.0703\n",
      "[Epoch 57] Loss: 0.0588\n",
      "[Epoch 58] Loss: 0.0586\n",
      "[Epoch 59] Loss: 0.0507\n",
      "[Epoch 60] Loss: 0.0540\n",
      "[Epoch 61] Loss: 0.0546\n",
      "[Epoch 62] Loss: 0.0500\n",
      "[Epoch 63] Loss: 0.0479\n",
      "[Epoch 64] Loss: 0.0495\n",
      "[Epoch 65] Loss: 0.0458\n",
      "[Epoch 66] Loss: 0.0454\n",
      "[Epoch 67] Loss: 0.0449\n",
      "[Epoch 68] Loss: 0.0431\n",
      "[Epoch 69] Loss: 0.0416\n",
      "[Epoch 70] Loss: 0.0448\n",
      "[Epoch 71] Loss: 0.0354\n",
      "[Epoch 72] Loss: 0.0370\n",
      "[Epoch 73] Loss: 0.0345\n",
      "[Epoch 74] Loss: 0.0378\n",
      "[Epoch 75] Loss: 0.0468\n",
      "[Epoch 76] Loss: 0.0440\n",
      "[Epoch 77] Loss: 0.0319\n",
      "[Epoch 78] Loss: 0.0323\n",
      "[Epoch 79] Loss: 0.0299\n",
      "[Epoch 80] Loss: 0.0301\n",
      "[Epoch 81] Loss: 0.0279\n",
      "[Epoch 82] Loss: 0.0281\n",
      "[Epoch 83] Loss: 0.0299\n",
      "[Epoch 84] Loss: 0.0302\n",
      "[Epoch 85] Loss: 0.0270\n",
      "[Epoch 86] Loss: 0.0268\n",
      "[Epoch 87] Loss: 0.0267\n",
      "[Epoch 88] Loss: 0.0305\n",
      "[Epoch 89] Loss: 0.0225\n",
      "[Epoch 90] Loss: 0.0337\n",
      "[Epoch 91] Loss: 0.0247\n",
      "[Epoch 92] Loss: 0.0251\n",
      "[Epoch 93] Loss: 0.0294\n",
      "[Epoch 94] Loss: 0.0207\n",
      "[Epoch 95] Loss: 0.0249\n",
      "[Epoch 96] Loss: 0.0213\n",
      "[Epoch 97] Loss: 0.0208\n",
      "[Epoch 98] Loss: 0.0201\n",
      "[Epoch 99] Loss: 0.0193\n",
      "[Epoch 100] Loss: 0.0184\n",
      "[Epoch 101] Loss: 0.0208\n",
      "[Epoch 102] Loss: 0.0187\n",
      "[Epoch 103] Loss: 0.0176\n",
      "[Epoch 104] Loss: 0.0170\n",
      "[Epoch 105] Loss: 0.0192\n",
      "[Epoch 106] Loss: 0.0192\n",
      "[Epoch 107] Loss: 0.0180\n",
      "[Epoch 108] Loss: 0.0176\n",
      "[Epoch 109] Loss: 0.0171\n",
      "[Epoch 110] Loss: 0.0158\n",
      "[Epoch 111] Loss: 0.0164\n",
      "[Epoch 112] Loss: 0.0148\n",
      "[Epoch 113] Loss: 0.0175\n",
      "[Epoch 114] Loss: 0.0145\n",
      "[Epoch 115] Loss: 0.0165\n",
      "[Epoch 116] Loss: 0.0132\n",
      "[Epoch 117] Loss: 0.0167\n",
      "[Epoch 118] Loss: 0.0135\n",
      "[Epoch 119] Loss: 0.0157\n",
      "[Epoch 120] Loss: 0.0141\n",
      "[Epoch 121] Loss: 0.0126\n",
      "[Epoch 122] Loss: 0.0129\n",
      "[Epoch 123] Loss: 0.0129\n",
      "[Epoch 124] Loss: 0.0130\n",
      "[Epoch 125] Loss: 0.0135\n",
      "[Epoch 126] Loss: 0.0129\n",
      "[Epoch 127] Loss: 0.0121\n",
      "[Epoch 128] Loss: 0.0116\n",
      "[Epoch 129] Loss: 0.0110\n",
      "[Epoch 130] Loss: 0.0122\n",
      "[Epoch 131] Loss: 0.0105\n",
      "[Epoch 132] Loss: 0.0121\n",
      "[Epoch 133] Loss: 0.0112\n",
      "[Epoch 134] Loss: 0.0132\n",
      "[Epoch 135] Loss: 0.0108\n",
      "[Epoch 136] Loss: 0.0114\n",
      "[Epoch 137] Loss: 0.0106\n",
      "[Epoch 138] Loss: 0.0092\n",
      "[Epoch 139] Loss: 0.0098\n",
      "[Epoch 140] Loss: 0.0109\n",
      "[Epoch 141] Loss: 0.0113\n",
      "[Epoch 142] Loss: 0.0098\n",
      "[Epoch 143] Loss: 0.0088\n",
      "[Epoch 144] Loss: 0.0099\n",
      "[Epoch 145] Loss: 0.0086\n",
      "[Epoch 146] Loss: 0.0093\n",
      "[Epoch 147] Loss: 0.0101\n",
      "[Epoch 148] Loss: 0.0088\n",
      "[Epoch 149] Loss: 0.0106\n",
      "[Epoch 150] Loss: 0.0088\n",
      "[Epoch 151] Loss: 0.0086\n",
      "[Epoch 152] Loss: 0.0099\n",
      "[Epoch 153] Loss: 0.0088\n",
      "[Epoch 154] Loss: 0.0077\n",
      "[Epoch 155] Loss: 0.0089\n",
      "[Epoch 156] Loss: 0.0077\n",
      "[Epoch 157] Loss: 0.0073\n",
      "[Epoch 158] Loss: 0.0075\n",
      "[Epoch 159] Loss: 0.0076\n",
      "[Epoch 160] Loss: 0.0069\n",
      "[Epoch 161] Loss: 0.0070\n",
      "[Epoch 162] Loss: 0.0075\n",
      "[Epoch 163] Loss: 0.0085\n",
      "[Epoch 164] Loss: 0.0067\n",
      "[Epoch 165] Loss: 0.0074\n",
      "[Epoch 166] Loss: 0.0070\n",
      "[Epoch 167] Loss: 0.0076\n",
      "[Epoch 168] Loss: 0.0089\n",
      "[Epoch 169] Loss: 0.0066\n",
      "[Epoch 170] Loss: 0.0067\n",
      "[Epoch 171] Loss: 0.0061\n",
      "[Epoch 172] Loss: 0.0061\n",
      "[Epoch 173] Loss: 0.0059\n",
      "[Epoch 174] Loss: 0.0056\n",
      "[Epoch 175] Loss: 0.0067\n",
      "[Epoch 176] Loss: 0.0056\n",
      "[Epoch 177] Loss: 0.0060\n",
      "[Epoch 178] Loss: 0.0055\n",
      "[Epoch 179] Loss: 0.0061\n",
      "[Epoch 180] Loss: 0.0067\n",
      "[Epoch 181] Loss: 0.0061\n",
      "[Epoch 182] Loss: 0.0076\n",
      "[Epoch 183] Loss: 0.0060\n",
      "[Epoch 184] Loss: 0.0055\n",
      "[Epoch 185] Loss: 0.0055\n",
      "[Epoch 186] Loss: 0.0051\n",
      "[Epoch 187] Loss: 0.0049\n",
      "[Epoch 188] Loss: 0.0052\n",
      "[Epoch 189] Loss: 0.0052\n",
      "[Epoch 190] Loss: 0.0047\n",
      "[Epoch 191] Loss: 0.0051\n",
      "[Epoch 192] Loss: 0.0056\n",
      "[Epoch 193] Loss: 0.0045\n",
      "[Epoch 194] Loss: 0.0046\n",
      "[Epoch 195] Loss: 0.0045\n",
      "[Epoch 196] Loss: 0.0048\n",
      "[Epoch 197] Loss: 0.0043\n",
      "[Epoch 198] Loss: 0.0042\n",
      "[Epoch 199] Loss: 0.0043\n",
      "[Epoch 200] Loss: 0.0044\n"
     ]
    }
   ],
   "source": [
    "NUM_EPOCHS = 200\n",
    "\n",
    "# create the network.\n",
    "net = MLP(nInput, nOutput, nHidden, act_fn)\n",
    "\n",
    "# create the optimizer.\n",
    "optimizer = Adam(net.parameters(), lr=0.1)\n",
    "\n",
    "best_accuracy = 0\n",
    "for epoch_idx in range(NUM_EPOCHS):\n",
    "    loss = train(net, optimizer, train_dataloader, epoch_idx)\n",
    "    print('[Epoch %02d] Loss: %.4f' % (epoch_idx + 1, loss))"
   ]
  },
  {
   "cell_type": "markdown",
   "metadata": {},
   "source": [
    "Again plot your result. You should see that the decision boundary can clearly separate the point clouds.\n"
   ]
  },
  {
   "cell_type": "code",
   "execution_count": 16,
   "metadata": {},
   "outputs": [
    {
     "data": {
      "image/png": "[encoded data removed]",
      "text/plain": [
       "<Figure size 640x480 with 1 Axes>"
      ]
     },
     "metadata": {},
     "output_type": "display_data"
    },
    {
     "data": {
      "text/plain": [
       "<Figure size 640x480 with 0 Axes>"
      ]
     },
     "metadata": {},
     "output_type": "display_data"
    }
   ],
   "source": [
    "p = np.linspace(-0.5, 0.5, 500)\n",
    "x_plot, y_plot = np.meshgrid(p, p)\n",
    "# process mesh datas\n",
    "X_plot = np.stack((x_plot, y_plot), axis=2).reshape(-1, 2)\n",
    "X_plot = torch.from_numpy(X_plot).float()\n",
    "# get predict result of meshgrid datas\n",
    "output = net(X_plot)\n",
    "output = output.detach().numpy()\n",
    "output = output.reshape(x_plot.shape[0], x_plot.shape[1])\n",
    "# draw a contour line\n",
    "plt.contour(x_plot, y_plot, output, [0.5],\n",
    "                  colors=('k',),\n",
    "                  linewidths=(3,))\n",
    "plot(X0, X1)"
   ]
  },
  {
   "cell_type": "markdown",
   "metadata": {},
   "source": [
    "When you are done, move forward to `image_classification.ipynb`."
   ]
  },
  {
   "cell_type": "markdown",
   "metadata": {},
   "source": []
  }
 ],
 "metadata": {
  "kernelspec": {
   "display_name": "Python 3.10.7 64-bit",
   "language": "python",
   "name": "python3"
  },
  "language_info": {
   "codemirror_mode": {
    "name": "ipython",
    "version": 3
   },
   "file_extension": ".py",
   "mimetype": "text/x-python",
   "name": "python",
   "nbconvert_exporter": "python",
   "pygments_lexer": "ipython3",
   "version": "3.10.7"
  },
  "vscode": {
   "interpreter": {
    "hash": "26de051ba29f2982a8de78e945f0abaf191376122a1563185a90213a26c5da77"
   }
  }
 },
 "nbformat": 4,
 "nbformat_minor": 4
}
