{
 "cells": [
  {
   "cell_type": "markdown",
   "metadata": {},
   "source": [
    "# Image Classification with PyTorch"
   ]
  },
  {
   "cell_type": "markdown",
   "metadata": {},
   "source": [
    "## Data loading\n"
   ]
  },
  {
   "cell_type": "code",
   "execution_count": 1,
   "metadata": {},
   "outputs": [
    {
     "name": "stderr",
     "output_type": "stream",
     "text": [
      "C:\\Users\\Dell\\AppData\\Roaming\\Python\\Python310\\site-packages\\tqdm\\auto.py:22: TqdmWarning: IProgress not found. Please update jupyter and ipywidgets. See https://ipywidgets.readthedocs.io/en/stable/user_install.html\n",
      "  from .autonotebook import tqdm as notebook_tqdm\n"
     ]
    }
   ],
   "source": [
    "import numpy as np\n",
    "import matplotlib.pyplot as plt\n",
    "\n",
    "import torch\n",
    "import torch.nn as nn\n",
    "import torch.nn.functional as F\n",
    "import torch.optim as optim\n",
    "from torch.utils.data import DataLoader\n",
    "import torchvision\n",
    "from torchvision import datasets, transforms"
   ]
  },
  {
   "cell_type": "markdown",
   "metadata": {},
   "source": [
    "Each sample is a 28x28 image"
   ]
  },
  {
   "cell_type": "code",
   "execution_count": 2,
   "metadata": {},
   "outputs": [
    {
     "name": "stdout",
     "output_type": "stream",
     "text": [
      "(<PIL.Image.Image image mode=L size=28x28 at 0x25B8AE83C70>, 5)\n"
     ]
    },
    {
     "data": {
      "image/png": "[encoded data removed]",
      "text/plain": [
       "<PIL.Image.Image image mode=L size=120x120>"
      ]
     },
     "execution_count": 2,
     "metadata": {},
     "output_type": "execute_result"
    }
   ],
   "source": [
    "# torchvision contains convinience functions for popular datasets\n",
    "ds_train = datasets.MNIST('data', train=True, download=True)\n",
    "# if we index this dataset, we get a single data point: a PIL image and an Integer\n",
    "print(ds_train[0])\n",
    "ds_train[0][0].resize((120,120))"
   ]
  },
  {
   "cell_type": "markdown",
   "metadata": {},
   "source": [
    "Let's transform the data to something that our Pytorch models will understand\n",
    "for this purpose, we can supply a transform function to the datase"
   ]
  },
  {
   "cell_type": "code",
   "execution_count": 3,
   "metadata": {},
   "outputs": [],
   "source": [
    "transform = transforms.Compose([\n",
    "    transforms.ToTensor(),\n",
    "])\n",
    "ds_train = datasets.MNIST('data', train=True, download=True, transform=transform)"
   ]
  },
  {
   "cell_type": "markdown",
   "metadata": {},
   "source": [
    "The image is now a `torch.Tensor`"
   ]
  },
  {
   "cell_type": "code",
   "execution_count": 4,
   "metadata": {},
   "outputs": [
    {
     "data": {
      "text/plain": [
       "torch.Tensor"
      ]
     },
     "execution_count": 4,
     "metadata": {},
     "output_type": "execute_result"
    }
   ],
   "source": [
    "type(ds_train[0][0])"
   ]
  },
  {
   "cell_type": "markdown",
   "metadata": {},
   "source": [
    "The normalization is something you learned about in the lecture. Normalizing with $\\mu=0, \\sigma=1$ corresponds to no normalization. Let's compute the proper normalization constants!"
   ]
  },
  {
   "cell_type": "code",
   "execution_count": 5,
   "metadata": {},
   "outputs": [],
   "source": [
    "# lets get only the images \n",
    "ims_train = ds_train.data\n",
    "ims_train = ims_train.float() / 255."
   ]
  },
  {
   "cell_type": "code",
   "execution_count": 6,
   "metadata": {},
   "outputs": [
    {
     "name": "stdout",
     "output_type": "stream",
     "text": [
      "tensor(0.1307)\n",
      "tensor(0.3081)\n"
     ]
    }
   ],
   "source": [
    "#########################################################################\n",
    "# TODO: calculate the mean and std of MNIST images\n",
    "# hint: to look for operations on pytorch tensor, refer to the official PyTorch docs \n",
    "# https://pytorch.org/docs/stable/\n",
    "#########################################################################\n",
    "mu = torch.mean(ims_train)\n",
    "std = torch.std(ims_train)\n",
    "print(mu)\n",
    "print(std)"
   ]
  },
  {
   "cell_type": "markdown",
   "metadata": {},
   "source": [
    "We normalize the data as below."
   ]
  },
  {
   "cell_type": "code",
   "execution_count": 7,
   "metadata": {},
   "outputs": [],
   "source": [
    "transform = transforms.Compose([\n",
    "    transforms.ToTensor(),\n",
    "    transforms.Normalize(mu, std)\n",
    "])\n",
    "ds_train = datasets.MNIST('data', train=True, download=True, transform=transform)\n",
    "ds_test = datasets.MNIST('data', train=False, download=True, transform=transform)"
   ]
  },
  {
   "cell_type": "code",
   "execution_count": 8,
   "metadata": {},
   "outputs": [
    {
     "data": {
      "text/plain": [
       "(tensor(-0.4241), tensor(2.8215))"
      ]
     },
     "execution_count": 8,
     "metadata": {},
     "output_type": "execute_result"
    }
   ],
   "source": [
    "ds_train[0][0].min(), ds_train[0][0].max()"
   ]
  },
  {
   "cell_type": "markdown",
   "metadata": {},
   "source": [
    "Next, we want to receive mini-batches, not only single data points.\n",
    "We use PyTorch's DataLoader class. Build a dataloader with a batch size of 64 and 4 workers (number of subprocess that peform the dataloading). Important: you need to shuffle the training data, not the test data.\n",
    "\n",
    "**NOTE**: if you encounter some unexpected errors in data loading, try setting `NUM_WORKERS = 0`"
   ]
  },
  {
   "cell_type": "code",
   "execution_count": 9,
   "metadata": {},
   "outputs": [],
   "source": [
    "BATCH_SIZE = 64\n",
    "NUM_WORKERS = 4\n",
    "#########################################################################\n",
    "# TODO: Build a dataloader for both train and test data.\n",
    "#########################################################################\n",
    "dl_train = DataLoader(ds_train, batch_size=BATCH_SIZE, shuffle=True, num_workers=NUM_WORKERS)\n",
    "dl_test = DataLoader(ds_test, batch_size=BATCH_SIZE, shuffle=False, num_workers=NUM_WORKERS)"
   ]
  },
  {
   "cell_type": "markdown",
   "metadata": {},
   "source": [
    "## MLP in Pytorch\n",
    "\n",
    "Ok, the dataloading works. Let's build our model, PyTorch makes this very easy. We will build replicate the model from our last exercises. However, now, we add another variable called `nLayer` that indicates how many linear layers that in your network. Please adapt your code from last exercise accordingly to allow different number of layers."
   ]
  },
  {
   "cell_type": "code",
   "execution_count": 10,
   "metadata": {},
   "outputs": [],
   "source": [
    "# These are the parameters to be used\n",
    "nInput = 784\n",
    "nOutput = 10\n",
    "nLayer = 2\n",
    "nHidden = 16\n",
    "act_fn = nn.ReLU()"
   ]
  },
  {
   "cell_type": "code",
   "execution_count": 11,
   "metadata": {},
   "outputs": [],
   "source": [
    "#########################################################################\n",
    "# TODO: Implement the __init__ of the MLP class. \n",
    "# insert the activation after every linear layer. Important: the number of \n",
    "# hidden layers should be variable!\n",
    "#########################################################################\n",
    "\n",
    "class MLP(nn.Module):\n",
    "    def __init__(self, nInput, nOutput, nLayer, nHidden, act_fn):\n",
    "        super(MLP, self).__init__()\n",
    "        layers = []\n",
    "        ##### implement this part #####\n",
    "        for i in range(nLayer+1):\n",
    "            if i == 0:\n",
    "                layers.append(nn.Linear(nInput, nHidden, bias=True))\n",
    "            elif i == nLayer:\n",
    "                layers.append(nn.Linear(nHidden, nOutput, bias=True))\n",
    "            else:\n",
    "                layers.append(nn.Linear(nHidden, nHidden, bias=True))\n",
    "            # add a activation func after each layer\n",
    "            layers.append(act_fn)\n",
    "        ###############################\n",
    "        self.model = nn.Sequential(*layers)\n",
    "\n",
    "    def forward(self, x):\n",
    "        x = torch.flatten(x, 1)\n",
    "        return self.model(x)"
   ]
  },
  {
   "cell_type": "code",
   "execution_count": 14,
   "metadata": {
    "scrolled": true
   },
   "outputs": [
    {
     "data": {
      "text/plain": [
       "torch.Size([1, 10])"
      ]
     },
     "execution_count": 14,
     "metadata": {},
     "output_type": "execute_result"
    }
   ],
   "source": [
    "# Let's test if the forward pass works\n",
    "# this should print torch.Size([1, 10])\n",
    "mlp = MLP(nInput, nOutput, nLayer, nHidden, act_fn)\n",
    "mlp(torch.randn(1,1,28,28)).shape # shape of Output"
   ]
  },
  {
   "cell_type": "markdown",
   "metadata": {},
   "source": [
    "We already implemented the test function for you"
   ]
  },
  {
   "cell_type": "code",
   "execution_count": 12,
   "metadata": {},
   "outputs": [],
   "source": [
    "def test(model, dl_test, device='cpu'):\n",
    "    model.eval()\n",
    "    test_loss = 0\n",
    "    correct = 0\n",
    "    # exclude the test code from the computing graph of the neural network\n",
    "    with torch.no_grad():\n",
    "        for data, target in dl_test:\n",
    "            data, target = data.to(device), target.to(device)\n",
    "            output = model(data)\n",
    "            test_loss += F.cross_entropy(output, target, reduction='sum').item()  # sum up batch loss\n",
    "            pred = output.argmax(dim=1, keepdim=True)  # get the index of the max log-probability\n",
    "            correct += pred.eq(target.view_as(pred)).sum().item()\n",
    "\n",
    "    test_loss /= len(dl_test.dataset)\n",
    "\n",
    "    print('Test set: Average loss: {:.4f}, Accuracy: {}/{} ({:.3f}%)\\n'.format(\n",
    "        test_loss, correct, len(dl_test.dataset),\n",
    "        100. * correct / len(dl_test.dataset)))"
   ]
  },
  {
   "cell_type": "markdown",
   "metadata": {},
   "source": [
    "Now you only need to implement the training and you are good to go"
   ]
  },
  {
   "cell_type": "code",
   "execution_count": 13,
   "metadata": {},
   "outputs": [],
   "source": [
    "#########################################################################\n",
    "# TODO: Implement the missing part of the training function. As a loss function we want to use cross entropy\n",
    "# It can be called with F.cross_entropy().\n",
    "# Hint: Pass through the model -> Backpropagate gradients -> Take gradient step\n",
    "#########################################################################\n",
    "\n",
    "def train(model, dl_train, optimizer, epoch, log_interval=100, device='cpu'):\n",
    "    model.train()\n",
    "    correct = 0\n",
    "    for batch_idx, (data, target) in enumerate(dl_train):\n",
    "        data, target = data.to(device), target.to(device)\n",
    "        \n",
    "        # first we need to zero the gradient, otherwise PyTorch would accumulate them\n",
    "        optimizer.zero_grad()\n",
    "        ##### implement this part #####\n",
    "        output = model(data)\n",
    "        loss = F.cross_entropy(output, target, reduction='mean')\n",
    "        loss.backward()\n",
    "        optimizer.step()\n",
    "        ###############################\n",
    "\n",
    "        # stats\n",
    "        pred = output.argmax(dim=1, keepdim=True)  # get the index of the max log-probability\n",
    "        correct += pred.eq(target.view_as(pred)).sum().item()\n",
    "\n",
    "        if batch_idx % log_interval == 0:\n",
    "            print('Train Epoch: {} [{}/{} ({:.0f}%)]\\tLoss: {:.6f}'.format(\n",
    "                epoch, batch_idx * len(data), len(dl_train.dataset),\n",
    "                100. * batch_idx / len(dl_train), loss.item()))\n",
    "\n",
    "    print('\\nTrain set: Average loss: {:.4f}, Accuracy: {}/{} ({:.1f}%)'.format(\n",
    "        loss, correct, len(dl_train.dataset),\n",
    "        100. * correct / len(dl_train.dataset)))"
   ]
  },
  {
   "cell_type": "markdown",
   "metadata": {},
   "source": [
    "Ok, the setup is almost done. The onoly missing part is the optimizer. We are going to use Adam."
   ]
  },
  {
   "cell_type": "code",
   "execution_count": 14,
   "metadata": {},
   "outputs": [
    {
     "data": {
      "text/plain": [
       "MLP(\n",
       "  (model): Sequential(\n",
       "    (0): Linear(in_features=784, out_features=16, bias=True)\n",
       "    (1): ReLU()\n",
       "    (2): Linear(in_features=16, out_features=16, bias=True)\n",
       "    (3): ReLU()\n",
       "    (4): Linear(in_features=16, out_features=10, bias=True)\n",
       "    (5): ReLU()\n",
       "  )\n",
       ")"
      ]
     },
     "execution_count": 14,
     "metadata": {},
     "output_type": "execute_result"
    }
   ],
   "source": [
    "# reinitialize the mlp, so we can play with parameters right here\n",
    "mlp = MLP(nInput, nOutput, nLayer, nHidden, act_fn)\n",
    "optimizer = optim.Adam(mlp.parameters())\n",
    "mlp"
   ]
  },
  {
   "cell_type": "code",
   "execution_count": 17,
   "metadata": {
    "scrolled": true
   },
   "outputs": [
    {
     "name": "stdout",
     "output_type": "stream",
     "text": [
      "Train Epoch: 1 [0/60000 (0%)]\tLoss: 148.693924\n",
      "Train Epoch: 1 [6400/60000 (11%)]\tLoss: 56.552586\n",
      "Train Epoch: 1 [12800/60000 (21%)]\tLoss: 54.187809\n",
      "Train Epoch: 1 [19200/60000 (32%)]\tLoss: 40.441399\n",
      "Train Epoch: 1 [25600/60000 (43%)]\tLoss: 41.231426\n",
      "Train Epoch: 1 [32000/60000 (53%)]\tLoss: 26.226503\n",
      "Train Epoch: 1 [38400/60000 (64%)]\tLoss: 16.124958\n",
      "Train Epoch: 1 [44800/60000 (75%)]\tLoss: 11.142137\n",
      "Train Epoch: 1 [51200/60000 (85%)]\tLoss: 19.126534\n",
      "Train Epoch: 1 [57600/60000 (96%)]\tLoss: 21.478642\n",
      "\n",
      "Train set: Average loss: 4.1522, Accuracy: 48840/60000 (81.4%)\n",
      "Test set: Average loss: 0.2934, Accuracy: 9161/10000 (91.610%)\n",
      "\n",
      "Train Epoch: 2 [0/60000 (0%)]\tLoss: 9.383723\n",
      "Train Epoch: 2 [6400/60000 (11%)]\tLoss: 34.124290\n",
      "Train Epoch: 2 [12800/60000 (21%)]\tLoss: 13.906291\n",
      "Train Epoch: 2 [19200/60000 (32%)]\tLoss: 17.101852\n",
      "Train Epoch: 2 [25600/60000 (43%)]\tLoss: 20.081419\n",
      "Train Epoch: 2 [32000/60000 (53%)]\tLoss: 6.734853\n",
      "Train Epoch: 2 [38400/60000 (64%)]\tLoss: 20.262243\n",
      "Train Epoch: 2 [44800/60000 (75%)]\tLoss: 9.521305\n",
      "Train Epoch: 2 [51200/60000 (85%)]\tLoss: 19.380440\n",
      "Train Epoch: 2 [57600/60000 (96%)]\tLoss: 19.003716\n",
      "\n",
      "Train set: Average loss: 9.4937, Accuracy: 55507/60000 (92.5%)\n",
      "Test set: Average loss: 0.2301, Accuracy: 9326/10000 (93.260%)\n",
      "\n",
      "Train Epoch: 3 [0/60000 (0%)]\tLoss: 9.555751\n",
      "Train Epoch: 3 [6400/60000 (11%)]\tLoss: 17.389948\n",
      "Train Epoch: 3 [12800/60000 (21%)]\tLoss: 12.131585\n",
      "Train Epoch: 3 [19200/60000 (32%)]\tLoss: 10.225066\n",
      "Train Epoch: 3 [25600/60000 (43%)]\tLoss: 16.914915\n",
      "Train Epoch: 3 [32000/60000 (53%)]\tLoss: 12.462150\n",
      "Train Epoch: 3 [38400/60000 (64%)]\tLoss: 16.326664\n",
      "Train Epoch: 3 [44800/60000 (75%)]\tLoss: 11.751773\n",
      "Train Epoch: 3 [51200/60000 (85%)]\tLoss: 20.170151\n",
      "Train Epoch: 3 [57600/60000 (96%)]\tLoss: 23.099333\n",
      "\n",
      "Train set: Average loss: 8.7213, Accuracy: 56158/60000 (93.6%)\n",
      "Test set: Average loss: 0.2098, Accuracy: 9377/10000 (93.770%)\n",
      "\n",
      "Train Epoch: 4 [0/60000 (0%)]\tLoss: 15.207839\n",
      "Train Epoch: 4 [6400/60000 (11%)]\tLoss: 11.792473\n",
      "Train Epoch: 4 [12800/60000 (21%)]\tLoss: 15.047093\n",
      "Train Epoch: 4 [19200/60000 (32%)]\tLoss: 25.382383\n",
      "Train Epoch: 4 [25600/60000 (43%)]\tLoss: 14.622532\n",
      "Train Epoch: 4 [32000/60000 (53%)]\tLoss: 3.827963\n",
      "Train Epoch: 4 [38400/60000 (64%)]\tLoss: 14.496022\n",
      "Train Epoch: 4 [44800/60000 (75%)]\tLoss: 7.056409\n",
      "Train Epoch: 4 [51200/60000 (85%)]\tLoss: 9.973490\n",
      "Train Epoch: 4 [57600/60000 (96%)]\tLoss: 4.946201\n",
      "\n",
      "Train set: Average loss: 18.0763, Accuracy: 56553/60000 (94.3%)\n",
      "Test set: Average loss: 0.1906, Accuracy: 9428/10000 (94.280%)\n",
      "\n",
      "Train Epoch: 5 [0/60000 (0%)]\tLoss: 10.804660\n",
      "Train Epoch: 5 [6400/60000 (11%)]\tLoss: 7.923719\n",
      "Train Epoch: 5 [12800/60000 (21%)]\tLoss: 6.648225\n",
      "Train Epoch: 5 [19200/60000 (32%)]\tLoss: 10.026315\n",
      "Train Epoch: 5 [25600/60000 (43%)]\tLoss: 9.287737\n",
      "Train Epoch: 5 [32000/60000 (53%)]\tLoss: 13.829662\n",
      "Train Epoch: 5 [38400/60000 (64%)]\tLoss: 4.656497\n",
      "Train Epoch: 5 [44800/60000 (75%)]\tLoss: 6.999930\n",
      "Train Epoch: 5 [51200/60000 (85%)]\tLoss: 11.913951\n",
      "Train Epoch: 5 [57600/60000 (96%)]\tLoss: 7.886313\n",
      "\n",
      "Train set: Average loss: 11.1123, Accuracy: 56847/60000 (94.7%)\n",
      "Test set: Average loss: 0.1789, Accuracy: 9470/10000 (94.700%)\n",
      "\n",
      "Train Epoch: 6 [0/60000 (0%)]\tLoss: 10.028478\n",
      "Train Epoch: 6 [6400/60000 (11%)]\tLoss: 7.248339\n",
      "Train Epoch: 6 [12800/60000 (21%)]\tLoss: 12.627316\n",
      "Train Epoch: 6 [19200/60000 (32%)]\tLoss: 12.349017\n",
      "Train Epoch: 6 [25600/60000 (43%)]\tLoss: 13.034683\n",
      "Train Epoch: 6 [32000/60000 (53%)]\tLoss: 5.020434\n",
      "Train Epoch: 6 [38400/60000 (64%)]\tLoss: 10.760647\n",
      "Train Epoch: 6 [44800/60000 (75%)]\tLoss: 9.390226\n",
      "Train Epoch: 6 [51200/60000 (85%)]\tLoss: 5.397163\n",
      "Train Epoch: 6 [57600/60000 (96%)]\tLoss: 15.218440\n",
      "\n",
      "Train set: Average loss: 2.6743, Accuracy: 56988/60000 (95.0%)\n",
      "Test set: Average loss: 0.1700, Accuracy: 9488/10000 (94.880%)\n",
      "\n",
      "Train Epoch: 7 [0/60000 (0%)]\tLoss: 3.009180\n",
      "Train Epoch: 7 [6400/60000 (11%)]\tLoss: 12.817968\n",
      "Train Epoch: 7 [12800/60000 (21%)]\tLoss: 8.675792\n",
      "Train Epoch: 7 [19200/60000 (32%)]\tLoss: 7.835228\n",
      "Train Epoch: 7 [25600/60000 (43%)]\tLoss: 7.834515\n",
      "Train Epoch: 7 [32000/60000 (53%)]\tLoss: 12.532209\n",
      "Train Epoch: 7 [38400/60000 (64%)]\tLoss: 8.805474\n",
      "Train Epoch: 7 [44800/60000 (75%)]\tLoss: 7.401738\n",
      "Train Epoch: 7 [51200/60000 (85%)]\tLoss: 4.029754\n",
      "Train Epoch: 7 [57600/60000 (96%)]\tLoss: 9.060966\n",
      "\n",
      "Train set: Average loss: 11.3584, Accuracy: 57219/60000 (95.4%)\n",
      "Test set: Average loss: 0.1688, Accuracy: 9492/10000 (94.920%)\n",
      "\n",
      "Train Epoch: 8 [0/60000 (0%)]\tLoss: 5.079470\n",
      "Train Epoch: 8 [6400/60000 (11%)]\tLoss: 5.218516\n",
      "Train Epoch: 8 [12800/60000 (21%)]\tLoss: 4.444753\n",
      "Train Epoch: 8 [19200/60000 (32%)]\tLoss: 8.186996\n",
      "Train Epoch: 8 [25600/60000 (43%)]\tLoss: 4.190288\n",
      "Train Epoch: 8 [32000/60000 (53%)]\tLoss: 3.591727\n",
      "Train Epoch: 8 [38400/60000 (64%)]\tLoss: 7.985356\n",
      "Train Epoch: 8 [44800/60000 (75%)]\tLoss: 18.665607\n",
      "Train Epoch: 8 [51200/60000 (85%)]\tLoss: 10.911692\n",
      "Train Epoch: 8 [57600/60000 (96%)]\tLoss: 4.029504\n",
      "\n",
      "Train set: Average loss: 6.0126, Accuracy: 57356/60000 (95.6%)\n",
      "Test set: Average loss: 0.1663, Accuracy: 9477/10000 (94.770%)\n",
      "\n",
      "Train Epoch: 9 [0/60000 (0%)]\tLoss: 7.431292\n",
      "Train Epoch: 9 [6400/60000 (11%)]\tLoss: 16.810738\n",
      "Train Epoch: 9 [12800/60000 (21%)]\tLoss: 10.609660\n",
      "Train Epoch: 9 [19200/60000 (32%)]\tLoss: 14.796381\n",
      "Train Epoch: 9 [25600/60000 (43%)]\tLoss: 9.831051\n",
      "Train Epoch: 9 [32000/60000 (53%)]\tLoss: 7.246151\n",
      "Train Epoch: 9 [38400/60000 (64%)]\tLoss: 13.086133\n",
      "Train Epoch: 9 [44800/60000 (75%)]\tLoss: 12.911413\n",
      "Train Epoch: 9 [51200/60000 (85%)]\tLoss: 5.423164\n",
      "Train Epoch: 9 [57600/60000 (96%)]\tLoss: 5.480604\n",
      "\n",
      "Train set: Average loss: 2.3972, Accuracy: 57438/60000 (95.7%)\n",
      "Test set: Average loss: 0.1682, Accuracy: 9492/10000 (94.920%)\n",
      "\n",
      "Train Epoch: 10 [0/60000 (0%)]\tLoss: 4.924664\n",
      "Train Epoch: 10 [6400/60000 (11%)]\tLoss: 5.167174\n",
      "Train Epoch: 10 [12800/60000 (21%)]\tLoss: 9.958652\n",
      "Train Epoch: 10 [19200/60000 (32%)]\tLoss: 8.342476\n",
      "Train Epoch: 10 [25600/60000 (43%)]\tLoss: 8.987654\n",
      "Train Epoch: 10 [32000/60000 (53%)]\tLoss: 6.039842\n",
      "Train Epoch: 10 [38400/60000 (64%)]\tLoss: 8.600703\n",
      "Train Epoch: 10 [44800/60000 (75%)]\tLoss: 3.780943\n",
      "Train Epoch: 10 [51200/60000 (85%)]\tLoss: 7.930253\n",
      "Train Epoch: 10 [57600/60000 (96%)]\tLoss: 2.911628\n",
      "\n",
      "Train set: Average loss: 0.6112, Accuracy: 57495/60000 (95.8%)\n",
      "Test set: Average loss: 0.1584, Accuracy: 9530/10000 (95.300%)\n",
      "\n",
      "Training is finished.\n"
     ]
    }
   ],
   "source": [
    "epochs = 10\n",
    "for epoch in range(1, epochs + 1):\n",
    "    train(mlp, dl_train, optimizer, epoch, log_interval=100)\n",
    "    test(mlp, dl_test)\n",
    "\n",
    "print ('Training is finished.')"
   ]
  },
  {
   "cell_type": "code",
   "execution_count": 15,
   "metadata": {},
   "outputs": [
    {
     "name": "stdout",
     "output_type": "stream",
     "text": [
      "Train Epoch: 1 [0/60000 (0%)]\tLoss: 2.325462\n",
      "Train Epoch: 1 [6400/60000 (11%)]\tLoss: 1.286584\n",
      "Train Epoch: 1 [12800/60000 (21%)]\tLoss: 1.258331\n",
      "Train Epoch: 1 [19200/60000 (32%)]\tLoss: 0.875798\n",
      "Train Epoch: 1 [25600/60000 (43%)]\tLoss: 1.028116\n",
      "Train Epoch: 1 [32000/60000 (53%)]\tLoss: 0.952344\n",
      "Train Epoch: 1 [38400/60000 (64%)]\tLoss: 0.742962\n",
      "Train Epoch: 1 [44800/60000 (75%)]\tLoss: 0.845561\n",
      "Train Epoch: 1 [51200/60000 (85%)]\tLoss: 0.784135\n",
      "Train Epoch: 1 [57600/60000 (96%)]\tLoss: 0.899070\n",
      "\n",
      "Train set: Average loss: 0.9131, Accuracy: 37659/60000 (62.8%)\n",
      "Test set: Average loss: 0.8898, Accuracy: 6672/10000 (66.720%)\n",
      "\n",
      "Train Epoch: 2 [0/60000 (0%)]\tLoss: 0.821958\n",
      "Train Epoch: 2 [6400/60000 (11%)]\tLoss: 0.967426\n",
      "Train Epoch: 2 [12800/60000 (21%)]\tLoss: 0.775489\n",
      "Train Epoch: 2 [19200/60000 (32%)]\tLoss: 0.923422\n",
      "Train Epoch: 2 [25600/60000 (43%)]\tLoss: 0.879724\n",
      "Train Epoch: 2 [32000/60000 (53%)]\tLoss: 1.050835\n",
      "Train Epoch: 2 [38400/60000 (64%)]\tLoss: 0.829428\n",
      "Train Epoch: 2 [44800/60000 (75%)]\tLoss: 1.041196\n",
      "Train Epoch: 2 [51200/60000 (85%)]\tLoss: 0.997666\n",
      "Train Epoch: 2 [57600/60000 (96%)]\tLoss: 0.897434\n",
      "\n",
      "Train set: Average loss: 0.9558, Accuracy: 39956/60000 (66.6%)\n",
      "Test set: Average loss: 0.8558, Accuracy: 6725/10000 (67.250%)\n",
      "\n",
      "Train Epoch: 3 [0/60000 (0%)]\tLoss: 0.928183\n",
      "Train Epoch: 3 [6400/60000 (11%)]\tLoss: 0.975961\n",
      "Train Epoch: 3 [12800/60000 (21%)]\tLoss: 0.839832\n",
      "Train Epoch: 3 [19200/60000 (32%)]\tLoss: 1.088563\n",
      "Train Epoch: 3 [25600/60000 (43%)]\tLoss: 0.795937\n",
      "Train Epoch: 3 [32000/60000 (53%)]\tLoss: 0.545019\n",
      "Train Epoch: 3 [38400/60000 (64%)]\tLoss: 0.924880\n",
      "Train Epoch: 3 [44800/60000 (75%)]\tLoss: 0.894145\n",
      "Train Epoch: 3 [51200/60000 (85%)]\tLoss: 0.440146\n",
      "Train Epoch: 3 [57600/60000 (96%)]\tLoss: 0.648160\n",
      "\n",
      "Train set: Average loss: 0.5348, Accuracy: 40319/60000 (67.2%)\n",
      "Test set: Average loss: 0.8392, Accuracy: 6763/10000 (67.630%)\n",
      "\n",
      "Train Epoch: 4 [0/60000 (0%)]\tLoss: 0.878798\n",
      "Train Epoch: 4 [6400/60000 (11%)]\tLoss: 1.039250\n",
      "Train Epoch: 4 [12800/60000 (21%)]\tLoss: 0.971125\n",
      "Train Epoch: 4 [19200/60000 (32%)]\tLoss: 0.896797\n",
      "Train Epoch: 4 [25600/60000 (43%)]\tLoss: 0.765867\n",
      "Train Epoch: 4 [32000/60000 (53%)]\tLoss: 0.752847\n",
      "Train Epoch: 4 [38400/60000 (64%)]\tLoss: 0.898220\n",
      "Train Epoch: 4 [44800/60000 (75%)]\tLoss: 0.941839\n",
      "Train Epoch: 4 [51200/60000 (85%)]\tLoss: 0.681022\n",
      "Train Epoch: 4 [57600/60000 (96%)]\tLoss: 0.730107\n",
      "\n",
      "Train set: Average loss: 0.7976, Accuracy: 40552/60000 (67.6%)\n",
      "Test set: Average loss: 0.8237, Accuracy: 6782/10000 (67.820%)\n",
      "\n",
      "Train Epoch: 5 [0/60000 (0%)]\tLoss: 1.062419\n",
      "Train Epoch: 5 [6400/60000 (11%)]\tLoss: 0.770894\n",
      "Train Epoch: 5 [12800/60000 (21%)]\tLoss: 0.687317\n",
      "Train Epoch: 5 [19200/60000 (32%)]\tLoss: 1.034427\n",
      "Train Epoch: 5 [25600/60000 (43%)]\tLoss: 0.931183\n",
      "Train Epoch: 5 [32000/60000 (53%)]\tLoss: 0.696057\n",
      "Train Epoch: 5 [38400/60000 (64%)]\tLoss: 0.622412\n",
      "Train Epoch: 5 [44800/60000 (75%)]\tLoss: 0.721749\n",
      "Train Epoch: 5 [51200/60000 (85%)]\tLoss: 0.735699\n",
      "Train Epoch: 5 [57600/60000 (96%)]\tLoss: 0.821590\n",
      "\n",
      "Train set: Average loss: 1.0497, Accuracy: 40632/60000 (67.7%)\n",
      "Test set: Average loss: 0.8207, Accuracy: 6767/10000 (67.670%)\n",
      "\n",
      "Train Epoch: 6 [0/60000 (0%)]\tLoss: 0.874747\n",
      "Train Epoch: 6 [6400/60000 (11%)]\tLoss: 0.829708\n",
      "Train Epoch: 6 [12800/60000 (21%)]\tLoss: 0.799887\n",
      "Train Epoch: 6 [19200/60000 (32%)]\tLoss: 0.838364\n",
      "Train Epoch: 6 [25600/60000 (43%)]\tLoss: 0.877966\n",
      "Train Epoch: 6 [32000/60000 (53%)]\tLoss: 0.829342\n",
      "Train Epoch: 6 [38400/60000 (64%)]\tLoss: 0.979267\n",
      "Train Epoch: 6 [44800/60000 (75%)]\tLoss: 0.822153\n",
      "Train Epoch: 6 [51200/60000 (85%)]\tLoss: 0.805359\n",
      "Train Epoch: 6 [57600/60000 (96%)]\tLoss: 0.678270\n",
      "\n",
      "Train set: Average loss: 0.9184, Accuracy: 40783/60000 (68.0%)\n",
      "Test set: Average loss: 0.8103, Accuracy: 6791/10000 (67.910%)\n",
      "\n",
      "Train Epoch: 7 [0/60000 (0%)]\tLoss: 0.641166\n",
      "Train Epoch: 7 [6400/60000 (11%)]\tLoss: 0.869186\n",
      "Train Epoch: 7 [12800/60000 (21%)]\tLoss: 0.842937\n",
      "Train Epoch: 7 [19200/60000 (32%)]\tLoss: 1.115943\n",
      "Train Epoch: 7 [25600/60000 (43%)]\tLoss: 0.558568\n",
      "Train Epoch: 7 [32000/60000 (53%)]\tLoss: 0.963547\n",
      "Train Epoch: 7 [38400/60000 (64%)]\tLoss: 0.659894\n",
      "Train Epoch: 7 [44800/60000 (75%)]\tLoss: 0.841368\n",
      "Train Epoch: 7 [51200/60000 (85%)]\tLoss: 0.784834\n",
      "Train Epoch: 7 [57600/60000 (96%)]\tLoss: 0.953773\n",
      "\n",
      "Train set: Average loss: 0.5451, Accuracy: 40889/60000 (68.1%)\n",
      "Test set: Average loss: 0.8049, Accuracy: 6818/10000 (68.180%)\n",
      "\n",
      "Train Epoch: 8 [0/60000 (0%)]\tLoss: 0.960298\n",
      "Train Epoch: 8 [6400/60000 (11%)]\tLoss: 0.674854\n",
      "Train Epoch: 8 [12800/60000 (21%)]\tLoss: 0.633241\n",
      "Train Epoch: 8 [19200/60000 (32%)]\tLoss: 0.781059\n",
      "Train Epoch: 8 [25600/60000 (43%)]\tLoss: 0.806880\n",
      "Train Epoch: 8 [32000/60000 (53%)]\tLoss: 0.846418\n",
      "Train Epoch: 8 [38400/60000 (64%)]\tLoss: 0.589509\n",
      "Train Epoch: 8 [44800/60000 (75%)]\tLoss: 0.835862\n",
      "Train Epoch: 8 [51200/60000 (85%)]\tLoss: 0.611351\n",
      "Train Epoch: 8 [57600/60000 (96%)]\tLoss: 0.705941\n",
      "\n",
      "Train set: Average loss: 0.6680, Accuracy: 40958/60000 (68.3%)\n",
      "Test set: Average loss: 0.8108, Accuracy: 6782/10000 (67.820%)\n",
      "\n",
      "Train Epoch: 9 [0/60000 (0%)]\tLoss: 0.879536\n",
      "Train Epoch: 9 [6400/60000 (11%)]\tLoss: 0.642790\n",
      "Train Epoch: 9 [12800/60000 (21%)]\tLoss: 0.662309\n",
      "Train Epoch: 9 [19200/60000 (32%)]\tLoss: 0.671652\n",
      "Train Epoch: 9 [25600/60000 (43%)]\tLoss: 0.853536\n",
      "Train Epoch: 9 [32000/60000 (53%)]\tLoss: 0.952728\n",
      "Train Epoch: 9 [38400/60000 (64%)]\tLoss: 0.553930\n",
      "Train Epoch: 9 [44800/60000 (75%)]\tLoss: 0.730077\n",
      "Train Epoch: 9 [51200/60000 (85%)]\tLoss: 0.664921\n",
      "Train Epoch: 9 [57600/60000 (96%)]\tLoss: 0.850397\n",
      "\n",
      "Train set: Average loss: 0.8779, Accuracy: 40994/60000 (68.3%)\n",
      "Test set: Average loss: 0.8020, Accuracy: 6801/10000 (68.010%)\n",
      "\n",
      "Train Epoch: 10 [0/60000 (0%)]\tLoss: 0.842087\n",
      "Train Epoch: 10 [6400/60000 (11%)]\tLoss: 0.897620\n",
      "Train Epoch: 10 [12800/60000 (21%)]\tLoss: 0.623359\n",
      "Train Epoch: 10 [19200/60000 (32%)]\tLoss: 0.756830\n",
      "Train Epoch: 10 [25600/60000 (43%)]\tLoss: 0.728784\n",
      "Train Epoch: 10 [32000/60000 (53%)]\tLoss: 1.017082\n",
      "Train Epoch: 10 [38400/60000 (64%)]\tLoss: 0.740339\n",
      "Train Epoch: 10 [44800/60000 (75%)]\tLoss: 0.693819\n",
      "Train Epoch: 10 [51200/60000 (85%)]\tLoss: 0.794362\n",
      "Train Epoch: 10 [57600/60000 (96%)]\tLoss: 0.990003\n",
      "\n",
      "Train set: Average loss: 0.6626, Accuracy: 41027/60000 (68.4%)\n",
      "Test set: Average loss: 0.7950, Accuracy: 6818/10000 (68.180%)\n",
      "\n",
      "Training is finished.\n"
     ]
    }
   ],
   "source": [
    "epochs = 10\n",
    "for epoch in range(1, epochs + 1):\n",
    "    train(mlp, dl_train, optimizer, epoch, log_interval=100)\n",
    "    test(mlp, dl_test)\n",
    "\n",
    "print ('Training is finished.')"
   ]
  },
  {
   "cell_type": "markdown",
   "metadata": {},
   "source": [
    "After training, you should see test accuracies of > **94%** - By they way, here we report test accuracy, the last exercises reported test error. Accuracy is simply (1 - error). Both metrics are commonly reported, there is no clear preference in literature for one or the other."
   ]
  },
  {
   "cell_type": "markdown",
   "metadata": {},
   "source": [
    "Now, can you do some parameter tuning to boost the test accuracy to > **97%**?"
   ]
  },
  {
   "cell_type": "code",
   "execution_count": 32,
   "metadata": {},
   "outputs": [
    {
     "data": {
      "text/plain": [
       "MLP(\n",
       "  (model): Sequential(\n",
       "    (0): Linear(in_features=784, out_features=36, bias=True)\n",
       "    (1): LeakyReLU(negative_slope=0.012)\n",
       "    (2): Linear(in_features=36, out_features=36, bias=True)\n",
       "    (3): LeakyReLU(negative_slope=0.012)\n",
       "    (4): Linear(in_features=36, out_features=36, bias=True)\n",
       "    (5): LeakyReLU(negative_slope=0.012)\n",
       "    (6): Linear(in_features=36, out_features=36, bias=True)\n",
       "    (7): LeakyReLU(negative_slope=0.012)\n",
       "    (8): Linear(in_features=36, out_features=10, bias=True)\n",
       "    (9): LeakyReLU(negative_slope=0.012)\n",
       "  )\n",
       ")"
      ]
     },
     "execution_count": 32,
     "metadata": {},
     "output_type": "execute_result"
    }
   ],
   "source": [
    "#########################################################################\n",
    "#TODO: modify the parameters below to see which setting that you can get to 97%\n",
    "#########################################################################\n",
    "nLayer = 4\n",
    "nHidden = 36\n",
    "act_fn = nn.LeakyReLU(negative_slope=0.012)\n",
    "\n",
    "# reinitialize the mlp, so we can play with parameters right here\n",
    "mlp = MLP(nInput, nOutput, nLayer, nHidden, act_fn)\n",
    "optimizer = optim.Adam(mlp.parameters(), lr=0.001)\n",
    "mlp"
   ]
  },
  {
   "cell_type": "code",
   "execution_count": 33,
   "metadata": {},
   "outputs": [
    {
     "name": "stdout",
     "output_type": "stream",
     "text": [
      "Train Epoch: 1 [0/60000 (0%)]\tLoss: 147.392700\n",
      "Train Epoch: 1 [6400/60000 (11%)]\tLoss: 50.698074\n",
      "Train Epoch: 1 [12800/60000 (21%)]\tLoss: 53.416473\n",
      "Train Epoch: 1 [19200/60000 (32%)]\tLoss: 18.240850\n",
      "Train Epoch: 1 [25600/60000 (43%)]\tLoss: 18.857492\n",
      "Train Epoch: 1 [32000/60000 (53%)]\tLoss: 21.520359\n",
      "Train Epoch: 1 [38400/60000 (64%)]\tLoss: 12.482315\n",
      "Train Epoch: 1 [44800/60000 (75%)]\tLoss: 31.633074\n",
      "Train Epoch: 1 [51200/60000 (85%)]\tLoss: 14.762682\n",
      "Train Epoch: 1 [57600/60000 (96%)]\tLoss: 6.428107\n",
      "\n",
      "Train set: Average loss: 6.6286, Accuracy: 51039/60000 (85.1%)\n",
      "Test set: Average loss: 0.2465, Accuracy: 9248/10000 (92.480%)\n",
      "\n",
      "Train Epoch: 2 [0/60000 (0%)]\tLoss: 17.502737\n",
      "Train Epoch: 2 [6400/60000 (11%)]\tLoss: 5.054456\n",
      "Train Epoch: 2 [12800/60000 (21%)]\tLoss: 14.767605\n",
      "Train Epoch: 2 [19200/60000 (32%)]\tLoss: 13.855268\n",
      "Train Epoch: 2 [25600/60000 (43%)]\tLoss: 5.353417\n",
      "Train Epoch: 2 [32000/60000 (53%)]\tLoss: 7.675358\n",
      "Train Epoch: 2 [38400/60000 (64%)]\tLoss: 12.876953\n",
      "Train Epoch: 2 [44800/60000 (75%)]\tLoss: 16.452396\n",
      "Train Epoch: 2 [51200/60000 (85%)]\tLoss: 7.104247\n",
      "Train Epoch: 2 [57600/60000 (96%)]\tLoss: 9.014724\n",
      "\n",
      "Train set: Average loss: 6.1805, Accuracy: 56589/60000 (94.3%)\n",
      "Test set: Average loss: 0.1700, Accuracy: 9469/10000 (94.690%)\n",
      "\n",
      "Train Epoch: 3 [0/60000 (0%)]\tLoss: 12.616780\n",
      "Train Epoch: 3 [6400/60000 (11%)]\tLoss: 13.844108\n",
      "Train Epoch: 3 [12800/60000 (21%)]\tLoss: 9.173840\n",
      "Train Epoch: 3 [19200/60000 (32%)]\tLoss: 6.486434\n",
      "Train Epoch: 3 [25600/60000 (43%)]\tLoss: 2.400944\n",
      "Train Epoch: 3 [32000/60000 (53%)]\tLoss: 6.109832\n",
      "Train Epoch: 3 [38400/60000 (64%)]\tLoss: 10.025000\n",
      "Train Epoch: 3 [44800/60000 (75%)]\tLoss: 10.864018\n",
      "Train Epoch: 3 [51200/60000 (85%)]\tLoss: 8.724778\n",
      "Train Epoch: 3 [57600/60000 (96%)]\tLoss: 2.333415\n",
      "\n",
      "Train set: Average loss: 5.0805, Accuracy: 57407/60000 (95.7%)\n",
      "Test set: Average loss: 0.1446, Accuracy: 9545/10000 (95.450%)\n",
      "\n",
      "Train Epoch: 4 [0/60000 (0%)]\tLoss: 5.865932\n",
      "Train Epoch: 4 [6400/60000 (11%)]\tLoss: 12.384778\n",
      "Train Epoch: 4 [12800/60000 (21%)]\tLoss: 7.507010\n",
      "Train Epoch: 4 [19200/60000 (32%)]\tLoss: 5.719811\n",
      "Train Epoch: 4 [25600/60000 (43%)]\tLoss: 6.982513\n",
      "Train Epoch: 4 [32000/60000 (53%)]\tLoss: 5.107538\n",
      "Train Epoch: 4 [38400/60000 (64%)]\tLoss: 2.815288\n",
      "Train Epoch: 4 [44800/60000 (75%)]\tLoss: 12.707549\n",
      "Train Epoch: 4 [51200/60000 (85%)]\tLoss: 4.692300\n",
      "Train Epoch: 4 [57600/60000 (96%)]\tLoss: 14.217793\n",
      "\n",
      "Train set: Average loss: 4.6594, Accuracy: 57851/60000 (96.4%)\n",
      "Test set: Average loss: 0.1341, Accuracy: 9580/10000 (95.800%)\n",
      "\n",
      "Train Epoch: 5 [0/60000 (0%)]\tLoss: 20.018473\n",
      "Train Epoch: 5 [6400/60000 (11%)]\tLoss: 6.353436\n",
      "Train Epoch: 5 [12800/60000 (21%)]\tLoss: 5.321786\n",
      "Train Epoch: 5 [19200/60000 (32%)]\tLoss: 5.013096\n",
      "Train Epoch: 5 [25600/60000 (43%)]\tLoss: 5.033096\n",
      "Train Epoch: 5 [32000/60000 (53%)]\tLoss: 9.406934\n",
      "Train Epoch: 5 [38400/60000 (64%)]\tLoss: 7.836546\n",
      "Train Epoch: 5 [44800/60000 (75%)]\tLoss: 3.209963\n",
      "Train Epoch: 5 [51200/60000 (85%)]\tLoss: 17.028574\n",
      "Train Epoch: 5 [57600/60000 (96%)]\tLoss: 5.583325\n",
      "\n",
      "Train set: Average loss: 9.3785, Accuracy: 58069/60000 (96.8%)\n",
      "Test set: Average loss: 0.1328, Accuracy: 9590/10000 (95.900%)\n",
      "\n",
      "Train Epoch: 6 [0/60000 (0%)]\tLoss: 12.722110\n",
      "Train Epoch: 6 [6400/60000 (11%)]\tLoss: 1.245957\n",
      "Train Epoch: 6 [12800/60000 (21%)]\tLoss: 0.297328\n",
      "Train Epoch: 6 [19200/60000 (32%)]\tLoss: 2.661187\n",
      "Train Epoch: 6 [25600/60000 (43%)]\tLoss: 22.124374\n",
      "Train Epoch: 6 [32000/60000 (53%)]\tLoss: 12.761127\n",
      "Train Epoch: 6 [38400/60000 (64%)]\tLoss: 6.871626\n",
      "Train Epoch: 6 [44800/60000 (75%)]\tLoss: 7.964413\n",
      "Train Epoch: 6 [51200/60000 (85%)]\tLoss: 4.543990\n",
      "Train Epoch: 6 [57600/60000 (96%)]\tLoss: 5.709850\n",
      "\n",
      "Train set: Average loss: 0.3559, Accuracy: 58346/60000 (97.2%)\n",
      "Test set: Average loss: 0.1304, Accuracy: 9615/10000 (96.150%)\n",
      "\n",
      "Train Epoch: 7 [0/60000 (0%)]\tLoss: 2.276706\n",
      "Train Epoch: 7 [6400/60000 (11%)]\tLoss: 5.177962\n",
      "Train Epoch: 7 [12800/60000 (21%)]\tLoss: 13.430656\n",
      "Train Epoch: 7 [19200/60000 (32%)]\tLoss: 11.388014\n",
      "Train Epoch: 7 [25600/60000 (43%)]\tLoss: 5.894945\n",
      "Train Epoch: 7 [32000/60000 (53%)]\tLoss: 5.047472\n",
      "Train Epoch: 7 [38400/60000 (64%)]\tLoss: 4.548549\n",
      "Train Epoch: 7 [44800/60000 (75%)]\tLoss: 11.974160\n",
      "Train Epoch: 7 [51200/60000 (85%)]\tLoss: 7.495114\n",
      "Train Epoch: 7 [57600/60000 (96%)]\tLoss: 4.443487\n",
      "\n",
      "Train set: Average loss: 1.5830, Accuracy: 58418/60000 (97.4%)\n",
      "Test set: Average loss: 0.1112, Accuracy: 9665/10000 (96.650%)\n",
      "\n",
      "Train Epoch: 8 [0/60000 (0%)]\tLoss: 9.453231\n",
      "Train Epoch: 8 [6400/60000 (11%)]\tLoss: 1.513709\n",
      "Train Epoch: 8 [12800/60000 (21%)]\tLoss: 1.891177\n",
      "Train Epoch: 8 [19200/60000 (32%)]\tLoss: 1.270157\n",
      "Train Epoch: 8 [25600/60000 (43%)]\tLoss: 2.183763\n",
      "Train Epoch: 8 [32000/60000 (53%)]\tLoss: 4.294283\n",
      "Train Epoch: 8 [38400/60000 (64%)]\tLoss: 4.228637\n",
      "Train Epoch: 8 [44800/60000 (75%)]\tLoss: 2.496742\n",
      "Train Epoch: 8 [51200/60000 (85%)]\tLoss: 7.305602\n",
      "Train Epoch: 8 [57600/60000 (96%)]\tLoss: 3.488202\n",
      "\n",
      "Train set: Average loss: 2.6757, Accuracy: 58617/60000 (97.7%)\n",
      "Test set: Average loss: 0.1008, Accuracy: 9688/10000 (96.880%)\n",
      "\n",
      "Train Epoch: 9 [0/60000 (0%)]\tLoss: 2.132966\n",
      "Train Epoch: 9 [6400/60000 (11%)]\tLoss: 0.606409\n",
      "Train Epoch: 9 [12800/60000 (21%)]\tLoss: 4.215072\n",
      "Train Epoch: 9 [19200/60000 (32%)]\tLoss: 0.966598\n",
      "Train Epoch: 9 [25600/60000 (43%)]\tLoss: 1.170631\n",
      "Train Epoch: 9 [32000/60000 (53%)]\tLoss: 1.375148\n",
      "Train Epoch: 9 [38400/60000 (64%)]\tLoss: 3.569989\n",
      "Train Epoch: 9 [44800/60000 (75%)]\tLoss: 4.354998\n",
      "Train Epoch: 9 [51200/60000 (85%)]\tLoss: 1.593231\n",
      "Train Epoch: 9 [57600/60000 (96%)]\tLoss: 0.338065\n",
      "\n",
      "Train set: Average loss: 0.8018, Accuracy: 58694/60000 (97.8%)\n",
      "Test set: Average loss: 0.1153, Accuracy: 9654/10000 (96.540%)\n",
      "\n",
      "Train Epoch: 10 [0/60000 (0%)]\tLoss: 5.243345\n",
      "Train Epoch: 10 [6400/60000 (11%)]\tLoss: 0.910067\n",
      "Train Epoch: 10 [12800/60000 (21%)]\tLoss: 5.144349\n",
      "Train Epoch: 10 [19200/60000 (32%)]\tLoss: 11.490087\n",
      "Train Epoch: 10 [25600/60000 (43%)]\tLoss: 7.249924\n",
      "Train Epoch: 10 [32000/60000 (53%)]\tLoss: 3.142304\n",
      "Train Epoch: 10 [38400/60000 (64%)]\tLoss: 6.149949\n",
      "Train Epoch: 10 [44800/60000 (75%)]\tLoss: 4.140612\n",
      "Train Epoch: 10 [51200/60000 (85%)]\tLoss: 2.891635\n",
      "Train Epoch: 10 [57600/60000 (96%)]\tLoss: 13.452991\n",
      "\n",
      "Train set: Average loss: 1.8963, Accuracy: 58806/60000 (98.0%)\n",
      "Test set: Average loss: 0.1208, Accuracy: 9651/10000 (96.510%)\n",
      "\n",
      "Train Epoch: 11 [0/60000 (0%)]\tLoss: 4.361491\n",
      "Train Epoch: 11 [6400/60000 (11%)]\tLoss: 3.278799\n",
      "Train Epoch: 11 [12800/60000 (21%)]\tLoss: 6.482551\n",
      "Train Epoch: 11 [19200/60000 (32%)]\tLoss: 5.951923\n",
      "Train Epoch: 11 [25600/60000 (43%)]\tLoss: 7.958471\n",
      "Train Epoch: 11 [32000/60000 (53%)]\tLoss: 7.019346\n",
      "Train Epoch: 11 [38400/60000 (64%)]\tLoss: 1.584211\n",
      "Train Epoch: 11 [44800/60000 (75%)]\tLoss: 2.060495\n",
      "Train Epoch: 11 [51200/60000 (85%)]\tLoss: 10.328883\n",
      "Train Epoch: 11 [57600/60000 (96%)]\tLoss: 0.285652\n",
      "\n",
      "Train set: Average loss: 0.2694, Accuracy: 58814/60000 (98.0%)\n",
      "Test set: Average loss: 0.1179, Accuracy: 9673/10000 (96.730%)\n",
      "\n",
      "Train Epoch: 12 [0/60000 (0%)]\tLoss: 0.684577\n",
      "Train Epoch: 12 [6400/60000 (11%)]\tLoss: 1.615222\n",
      "Train Epoch: 12 [12800/60000 (21%)]\tLoss: 1.261098\n",
      "Train Epoch: 12 [19200/60000 (32%)]\tLoss: 1.242096\n",
      "Train Epoch: 12 [25600/60000 (43%)]\tLoss: 3.783712\n",
      "Train Epoch: 12 [32000/60000 (53%)]\tLoss: 1.372148\n",
      "Train Epoch: 12 [38400/60000 (64%)]\tLoss: 1.863966\n",
      "Train Epoch: 12 [44800/60000 (75%)]\tLoss: 4.800207\n",
      "Train Epoch: 12 [51200/60000 (85%)]\tLoss: 5.523648\n",
      "Train Epoch: 12 [57600/60000 (96%)]\tLoss: 2.419532\n",
      "\n",
      "Train set: Average loss: 7.0922, Accuracy: 58896/60000 (98.2%)\n",
      "Test set: Average loss: 0.0985, Accuracy: 9701/10000 (97.010%)\n",
      "\n",
      "Training is finished.\n"
     ]
    }
   ],
   "source": [
    "epochs = 12\n",
    "for epoch in range(1, epochs + 1):\n",
    "    train(mlp, dl_train, optimizer, epoch, log_interval=100)\n",
    "    test(mlp, dl_test)\n",
    "\n",
    "print ('Training is finished.')"
   ]
  },
  {
   "cell_type": "markdown",
   "metadata": {},
   "source": [
    "Before you move on to the next exercise, you can further play with the other parameters (learning rate, epochs, a different optimizer, etc.) to get a feeling what can improve or hamper performance. "
   ]
  },
  {
   "cell_type": "markdown",
   "metadata": {},
   "source": [
    "## CNN\n",
    "Alright, we matched our prior performance. Let's surpass it! You will soon see the power of CNN by building a small one yourself. The structure should be as follows\n",
    "\n",
    "| CNN Architecture                             \t|\n",
    "|----------------------------------------------\t|\n",
    "| Conv: $C_{in}=1, C_{out}=32, K=3, S=1, P=0$  \t|\n",
    "| ReLU                                         \t|\n",
    "| Conv: $C_{in}=32, C_{out}=64, K=3, S=1, P=0$ \t|\n",
    "| ReLU                                         \t|\n",
    "| MaxPool2d: $K=2, S=2, P=0$                   \t|\n",
    "| Dropout: $p=0.25$                            \t|\n",
    "| Linear: $C_{in}=9216, C_{out}=128$           \t|\n",
    "| ReLU                                         \t|\n",
    "| Dropout: $p=0.5$                             \t|\n",
    "| Linear: $C_{in}=128, C_{out}=10$             \t|\n",
    "\n",
    "The layers you will need are: \n",
    "\n",
    "`nn.Conv2d,  nn.Linear,  nn.Dropout, nn.MaxPool2d, nn.Flatten`\n",
    "\n",
    "For layers without parameters you can alternatively use function in the forward pass:  \n",
    "\n",
    "`F.max_pool2d, torch.flatten`"
   ]
  },
  {
   "cell_type": "code",
   "execution_count": 19,
   "metadata": {},
   "outputs": [],
   "source": [
    "#########################################################################\n",
    "# TODO: Implement the __init__ and forward method of the CNN class. \n",
    "# Hint: do not forget to flatten the appropriate dimension after the convolutional blocks. \n",
    "# A linear layers expect input of the size (B, H) with batch size B and feature size H\n",
    "#########################################################################\n",
    "\n",
    "class CNN(nn.Module):\n",
    "    def __init__(self):\n",
    "        super(CNN, self).__init__()\n",
    "        # input 1 x 1 x 28 x 28\n",
    "        Conv_Layers = [\n",
    "            nn.Conv2d(1, 32, kernel_size=3, stride=1, padding=0),\n",
    "            nn.ReLU(),\n",
    "            nn.Conv2d(32, 64, kernel_size=3, stride=1, padding=0),\n",
    "            nn.ReLU(),\n",
    "            nn.MaxPool2d(kernel_size=2, stride=2, padding=0),\n",
    "            nn.Dropout(p=0.25),\n",
    "        ]\n",
    "        Linear_Layers = [\n",
    "            nn.Linear(9216, 128, bias=True),\n",
    "            nn.ReLU(),\n",
    "            nn.Dropout(p=0.5),\n",
    "            nn.Linear(128, 10, bias=True)\n",
    "        ]\n",
    "\n",
    "        self.Conv_Layers = nn.Sequential(*Conv_Layers)\n",
    "        self.Linear_Layers = nn.Sequential(*Linear_Layers)\n",
    "\n",
    "    def forward(self, x):\n",
    "        x = self.Conv_Layers(x) # torch.Size([1, 64, 12, 12])\n",
    "        x = torch.flatten(x, 1, 3) # torch.Size([1, 9216])\n",
    "        x = self.Linear_Layers(x) # torch.Size([1, 10])\n",
    "        return x\n"
   ]
  },
  {
   "cell_type": "code",
   "execution_count": 20,
   "metadata": {},
   "outputs": [
    {
     "data": {
      "text/plain": [
       "torch.Size([1, 10])"
      ]
     },
     "execution_count": 20,
     "metadata": {},
     "output_type": "execute_result"
    }
   ],
   "source": [
    "# Let's test if the forward pass works\n",
    "# this should print torch.Size([1, 10])\n",
    "t = torch.randn(1,1,28,28)\n",
    "cnn = CNN()\n",
    "cnn(t).shape"
   ]
  },
  {
   "cell_type": "markdown",
   "metadata": {},
   "source": [
    "Alright, let's train!"
   ]
  },
  {
   "cell_type": "code",
   "execution_count": 21,
   "metadata": {
    "scrolled": true
   },
   "outputs": [
    {
     "name": "stdout",
     "output_type": "stream",
     "text": [
      "Train Epoch: 1 [0/60000 (0%)]\tLoss: 147.278137\n",
      "Train Epoch: 1 [6400/60000 (11%)]\tLoss: 19.479948\n",
      "Train Epoch: 1 [12800/60000 (21%)]\tLoss: 11.513387\n",
      "Train Epoch: 1 [19200/60000 (32%)]\tLoss: 8.942716\n",
      "Train Epoch: 1 [25600/60000 (43%)]\tLoss: 7.468635\n",
      "Train Epoch: 1 [32000/60000 (53%)]\tLoss: 11.931755\n",
      "Train Epoch: 1 [38400/60000 (64%)]\tLoss: 2.059907\n",
      "Train Epoch: 1 [44800/60000 (75%)]\tLoss: 2.665296\n",
      "Train Epoch: 1 [51200/60000 (85%)]\tLoss: 2.712665\n",
      "Train Epoch: 1 [57600/60000 (96%)]\tLoss: 7.385027\n",
      "\n",
      "Train set: Average loss: 2.0670, Accuracy: 56496/60000 (94.2%)\n",
      "Test set: Average loss: 0.0458, Accuracy: 9849/10000 (98.490%)\n",
      "\n",
      "Train Epoch: 2 [0/60000 (0%)]\tLoss: 7.406923\n",
      "Train Epoch: 2 [6400/60000 (11%)]\tLoss: 3.674722\n",
      "Train Epoch: 2 [12800/60000 (21%)]\tLoss: 4.043659\n",
      "Train Epoch: 2 [19200/60000 (32%)]\tLoss: 16.160927\n",
      "Train Epoch: 2 [25600/60000 (43%)]\tLoss: 6.547708\n",
      "Train Epoch: 2 [32000/60000 (53%)]\tLoss: 3.997545\n",
      "Train Epoch: 2 [38400/60000 (64%)]\tLoss: 2.590868\n",
      "Train Epoch: 2 [44800/60000 (75%)]\tLoss: 1.876781\n",
      "Train Epoch: 2 [51200/60000 (85%)]\tLoss: 14.325827\n",
      "Train Epoch: 2 [57600/60000 (96%)]\tLoss: 19.742735\n",
      "\n",
      "Train set: Average loss: 0.8364, Accuracy: 58620/60000 (97.7%)\n",
      "Test set: Average loss: 0.0344, Accuracy: 9893/10000 (98.930%)\n",
      "\n",
      "Train Epoch: 3 [0/60000 (0%)]\tLoss: 2.397591\n",
      "Train Epoch: 3 [6400/60000 (11%)]\tLoss: 0.935419\n",
      "Train Epoch: 3 [12800/60000 (21%)]\tLoss: 0.365152\n",
      "Train Epoch: 3 [19200/60000 (32%)]\tLoss: 11.761165\n",
      "Train Epoch: 3 [25600/60000 (43%)]\tLoss: 0.625254\n",
      "Train Epoch: 3 [32000/60000 (53%)]\tLoss: 3.556617\n",
      "Train Epoch: 3 [38400/60000 (64%)]\tLoss: 5.086688\n",
      "Train Epoch: 3 [44800/60000 (75%)]\tLoss: 0.896934\n",
      "Train Epoch: 3 [51200/60000 (85%)]\tLoss: 1.617309\n",
      "Train Epoch: 3 [57600/60000 (96%)]\tLoss: 5.102859\n",
      "\n",
      "Train set: Average loss: 1.3233, Accuracy: 58836/60000 (98.1%)\n",
      "Test set: Average loss: 0.0309, Accuracy: 9904/10000 (99.040%)\n",
      "\n",
      "Train Epoch: 4 [0/60000 (0%)]\tLoss: 1.296691\n",
      "Train Epoch: 4 [6400/60000 (11%)]\tLoss: 10.326562\n",
      "Train Epoch: 4 [12800/60000 (21%)]\tLoss: 0.452936\n",
      "Train Epoch: 4 [19200/60000 (32%)]\tLoss: 0.984674\n",
      "Train Epoch: 4 [25600/60000 (43%)]\tLoss: 1.258562\n",
      "Train Epoch: 4 [32000/60000 (53%)]\tLoss: 1.024684\n",
      "Train Epoch: 4 [38400/60000 (64%)]\tLoss: 5.836053\n",
      "Train Epoch: 4 [44800/60000 (75%)]\tLoss: 0.437342\n",
      "Train Epoch: 4 [51200/60000 (85%)]\tLoss: 1.429658\n",
      "Train Epoch: 4 [57600/60000 (96%)]\tLoss: 3.136751\n",
      "\n",
      "Train set: Average loss: 0.8014, Accuracy: 59059/60000 (98.4%)\n",
      "Test set: Average loss: 0.0313, Accuracy: 9910/10000 (99.100%)\n",
      "\n",
      "Train Epoch: 5 [0/60000 (0%)]\tLoss: 1.798287\n",
      "Train Epoch: 5 [6400/60000 (11%)]\tLoss: 6.216175\n",
      "Train Epoch: 5 [12800/60000 (21%)]\tLoss: 3.040797\n",
      "Train Epoch: 5 [19200/60000 (32%)]\tLoss: 3.200535\n",
      "Train Epoch: 5 [25600/60000 (43%)]\tLoss: 2.469059\n",
      "Train Epoch: 5 [32000/60000 (53%)]\tLoss: 2.263656\n",
      "Train Epoch: 5 [38400/60000 (64%)]\tLoss: 0.113488\n",
      "Train Epoch: 5 [44800/60000 (75%)]\tLoss: 1.638605\n",
      "Train Epoch: 5 [51200/60000 (85%)]\tLoss: 0.328452\n",
      "Train Epoch: 5 [57600/60000 (96%)]\tLoss: 14.219065\n",
      "\n",
      "Train set: Average loss: 0.7315, Accuracy: 59167/60000 (98.6%)\n",
      "Test set: Average loss: 0.0328, Accuracy: 9903/10000 (99.030%)\n",
      "\n"
     ]
    }
   ],
   "source": [
    "optimizer = optim.Adam(cnn.parameters())\n",
    "\n",
    "epochs = 5\n",
    "for epoch in range(1, epochs + 1):\n",
    "    train(cnn, dl_train, optimizer, epoch, log_interval=100)\n",
    "    test(cnn, dl_test)"
   ]
  },
  {
   "cell_type": "markdown",
   "metadata": {},
   "source": [
    "This will probably take a bit longer to train, as a convolutional network is not very efficient on a CPU. The current settings should get you around **99%** accuracy. Nice! \n",
    "Again, you should try different hyperparameters and see how far you can push the performance."
   ]
  },
  {
   "cell_type": "markdown",
   "metadata": {},
   "source": [
    "### Inline Question\n",
    "\n",
    "If your model weight is randomly initalized, and no training is done as above. What accuracy do you think the model will get for a 10-class classification task in theory?\n",
    "\n",
    "**Your answer**: less than 50%\n"
   ]
  },
  {
   "cell_type": "markdown",
   "metadata": {},
   "source": [
    "## Training on CIFAR10\n",
    "\n",
    "Now we are going to move to something more challenging - CIFAR10. We can reuse most of the code above. Thankfully, CIFAR is also a popular dataset, so we can again make use of a PyTorch convience function."
   ]
  },
  {
   "cell_type": "code",
   "execution_count": 15,
   "metadata": {},
   "outputs": [
    {
     "name": "stdout",
     "output_type": "stream",
     "text": [
      "Files already downloaded and verified\n"
     ]
    }
   ],
   "source": [
    "ds_train = datasets.CIFAR10(root='./data', train=True, download=True)"
   ]
  },
  {
   "cell_type": "markdown",
   "metadata": {},
   "source": [
    "This dataset is not normalized yet, so we need to calculate the normalization constants."
   ]
  },
  {
   "cell_type": "code",
   "execution_count": 16,
   "metadata": {},
   "outputs": [
    {
     "name": "stdout",
     "output_type": "stream",
     "text": [
      "tensor([0.4914, 0.4822, 0.4465])\n",
      "tensor([0.2470, 0.2435, 0.2616])\n"
     ]
    }
   ],
   "source": [
    "ims_train = torch.tensor(ds_train.data)\n",
    "ims_train = ims_train.float() / 255.\n",
    "#########################################################################\n",
    "# TODO: calculate the mean and std of CIFAR\n",
    "# hint: We want the mean and std of the channel dimension, these should\n",
    "# be 3 dimensional\n",
    "#########################################################################\n",
    "mu_CIFAR = torch.mean(ims_train, dim=(0,1,2))\n",
    "std_CIFAR = torch.std(ims_train, dim=(0,1,2))\n",
    "print(mu_CIFAR)\n",
    "print(std_CIFAR)"
   ]
  },
  {
   "cell_type": "markdown",
   "metadata": {},
   "source": [
    "For CIFAR we want to make use of data augmentation to improve generalization. You will find all data augmentations data are included in torchvision here:\n",
    "\n",
    "https://pytorch.org/docs/stable/torchvision/transforms.html"
   ]
  },
  {
   "cell_type": "code",
   "execution_count": 17,
   "metadata": {},
   "outputs": [
    {
     "name": "stdout",
     "output_type": "stream",
     "text": [
      "Files already downloaded and verified\n",
      "Files already downloaded and verified\n"
     ]
    }
   ],
   "source": [
    "BATCH_SIZE = 128\n",
    "NUM_WORKERS = 4 # if you encounter some unexpected errors in data loading, try setting `NUM_WORKERS = 0`\n",
    "#########################################################################\n",
    "# TODO: Implement the proper transforms for the training and test dataloaders. \n",
    "# Then build train and test dataloaders with batch size 128 and 4 workers\n",
    "#\n",
    "# Train: \n",
    "# - Apply a random crop with size 32 on a padded version of the image with P=4\n",
    "# - Flip the image horizontally with a probability of 40 %\n",
    "# - Transform to a Tensor\n",
    "# - Normalize with the constants calculated above\n",
    "# Test: \n",
    "# - Transform to a Tensor\n",
    "# - Normalize with the constants calculated above\n",
    "#########################################################################\n",
    "torch.manual_seed(17)\n",
    "\n",
    "transform_train = transforms.Compose([\n",
    "    transforms.RandomCrop(size=32, padding=[4], padding_mode='reflect'),\n",
    "    transforms.RandomHorizontalFlip(p=0.4),\n",
    "    transforms.ToTensor(),\n",
    "    transforms.Normalize(mu_CIFAR, std_CIFAR)\n",
    "])\n",
    "transform_test = transforms.Compose([\n",
    "    transforms.ToTensor(),\n",
    "    transforms.Normalize(mu_CIFAR, std_CIFAR)\n",
    "])\n",
    "\n",
    "CIFAR10_train_data = datasets.CIFAR10('./data', train=True, download=True, transform=transform_train)\n",
    "CIFAR10_test_data = datasets.CIFAR10('./data', train=False, download=True, transform=transform_test)\n",
    "\n",
    "CIFAR10_train = DataLoader(CIFAR10_train_data, batch_size=BATCH_SIZE, shuffle=True, num_workers=NUM_WORKERS)\n",
    "CIFAR10_test = DataLoader(CIFAR10_test_data, batch_size=BATCH_SIZE, shuffle=False, num_workers=NUM_WORKERS)"
   ]
  },
  {
   "cell_type": "markdown",
   "metadata": {},
   "source": [
    "Setting up the  optimizer, this time we use SGD. The scheduler adapts the learning rate during traing (you can ignore it)"
   ]
  },
  {
   "cell_type": "code",
   "execution_count": 26,
   "metadata": {
    "scrolled": true
   },
   "outputs": [
    {
     "ename": "RuntimeError",
     "evalue": "Given groups=1, weight of size [32, 1, 3, 3], expected input[128, 3, 32, 32] to have 1 channels, but got 3 channels instead",
     "output_type": "error",
     "traceback": [
      "\u001b[1;31m---------------------------------------------------------------------------\u001b[0m",
      "\u001b[1;31mRuntimeError\u001b[0m                              Traceback (most recent call last)",
      "Cell \u001b[1;32mIn [26], line 7\u001b[0m\n\u001b[0;32m      5\u001b[0m epochs \u001b[39m=\u001b[39m \u001b[39m5\u001b[39m\n\u001b[0;32m      6\u001b[0m \u001b[39mfor\u001b[39;00m epoch \u001b[39min\u001b[39;00m \u001b[39mrange\u001b[39m(\u001b[39m1\u001b[39m, epochs \u001b[39m+\u001b[39m \u001b[39m1\u001b[39m):\n\u001b[1;32m----> 7\u001b[0m     train(cnn, dl_train, optimizer, epoch, log_interval\u001b[39m=\u001b[39;49m\u001b[39m100\u001b[39;49m)\n\u001b[0;32m      8\u001b[0m     test(cnn, dl_test)    \n\u001b[0;32m      9\u001b[0m     scheduler\u001b[39m.\u001b[39mstep()\n",
      "Cell \u001b[1;32mIn [15], line 16\u001b[0m, in \u001b[0;36mtrain\u001b[1;34m(model, dl_train, optimizer, epoch, log_interval, device)\u001b[0m\n\u001b[0;32m     14\u001b[0m optimizer\u001b[39m.\u001b[39mzero_grad()\n\u001b[0;32m     15\u001b[0m \u001b[39m##### implement this part #####\u001b[39;00m\n\u001b[1;32m---> 16\u001b[0m output \u001b[39m=\u001b[39m model(data)\n\u001b[0;32m     17\u001b[0m loss \u001b[39m=\u001b[39m F\u001b[39m.\u001b[39mcross_entropy(output, target, reduction\u001b[39m=\u001b[39m\u001b[39m'\u001b[39m\u001b[39msum\u001b[39m\u001b[39m'\u001b[39m)\n\u001b[0;32m     18\u001b[0m loss\u001b[39m.\u001b[39mbackward()\n",
      "File \u001b[1;32m~\\AppData\\Roaming\\Python\\Python310\\site-packages\\torch\\nn\\modules\\module.py:1130\u001b[0m, in \u001b[0;36mModule._call_impl\u001b[1;34m(self, *input, **kwargs)\u001b[0m\n\u001b[0;32m   1126\u001b[0m \u001b[39m# If we don't have any hooks, we want to skip the rest of the logic in\u001b[39;00m\n\u001b[0;32m   1127\u001b[0m \u001b[39m# this function, and just call forward.\u001b[39;00m\n\u001b[0;32m   1128\u001b[0m \u001b[39mif\u001b[39;00m \u001b[39mnot\u001b[39;00m (\u001b[39mself\u001b[39m\u001b[39m.\u001b[39m_backward_hooks \u001b[39mor\u001b[39;00m \u001b[39mself\u001b[39m\u001b[39m.\u001b[39m_forward_hooks \u001b[39mor\u001b[39;00m \u001b[39mself\u001b[39m\u001b[39m.\u001b[39m_forward_pre_hooks \u001b[39mor\u001b[39;00m _global_backward_hooks\n\u001b[0;32m   1129\u001b[0m         \u001b[39mor\u001b[39;00m _global_forward_hooks \u001b[39mor\u001b[39;00m _global_forward_pre_hooks):\n\u001b[1;32m-> 1130\u001b[0m     \u001b[39mreturn\u001b[39;00m forward_call(\u001b[39m*\u001b[39m\u001b[39minput\u001b[39m, \u001b[39m*\u001b[39m\u001b[39m*\u001b[39mkwargs)\n\u001b[0;32m   1131\u001b[0m \u001b[39m# Do not call functions when jit is used\u001b[39;00m\n\u001b[0;32m   1132\u001b[0m full_backward_hooks, non_full_backward_hooks \u001b[39m=\u001b[39m [], []\n",
      "Cell \u001b[1;32mIn [19], line 30\u001b[0m, in \u001b[0;36mCNN.forward\u001b[1;34m(self, x)\u001b[0m\n\u001b[0;32m     29\u001b[0m \u001b[39mdef\u001b[39;00m \u001b[39mforward\u001b[39m(\u001b[39mself\u001b[39m, x):\n\u001b[1;32m---> 30\u001b[0m     x \u001b[39m=\u001b[39m \u001b[39mself\u001b[39;49m\u001b[39m.\u001b[39;49mConv_Layers(x) \u001b[39m# torch.Size([1, 64, 12, 12])\u001b[39;00m\n\u001b[0;32m     31\u001b[0m     x \u001b[39m=\u001b[39m torch\u001b[39m.\u001b[39mflatten(x, \u001b[39m1\u001b[39m, \u001b[39m3\u001b[39m) \u001b[39m# torch.Size([1, 9216])\u001b[39;00m\n\u001b[0;32m     32\u001b[0m     x \u001b[39m=\u001b[39m \u001b[39mself\u001b[39m\u001b[39m.\u001b[39mLinear_Layers(x) \u001b[39m# torch.Size([1, 10])\u001b[39;00m\n",
      "File \u001b[1;32m~\\AppData\\Roaming\\Python\\Python310\\site-packages\\torch\\nn\\modules\\module.py:1130\u001b[0m, in \u001b[0;36mModule._call_impl\u001b[1;34m(self, *input, **kwargs)\u001b[0m\n\u001b[0;32m   1126\u001b[0m \u001b[39m# If we don't have any hooks, we want to skip the rest of the logic in\u001b[39;00m\n\u001b[0;32m   1127\u001b[0m \u001b[39m# this function, and just call forward.\u001b[39;00m\n\u001b[0;32m   1128\u001b[0m \u001b[39mif\u001b[39;00m \u001b[39mnot\u001b[39;00m (\u001b[39mself\u001b[39m\u001b[39m.\u001b[39m_backward_hooks \u001b[39mor\u001b[39;00m \u001b[39mself\u001b[39m\u001b[39m.\u001b[39m_forward_hooks \u001b[39mor\u001b[39;00m \u001b[39mself\u001b[39m\u001b[39m.\u001b[39m_forward_pre_hooks \u001b[39mor\u001b[39;00m _global_backward_hooks\n\u001b[0;32m   1129\u001b[0m         \u001b[39mor\u001b[39;00m _global_forward_hooks \u001b[39mor\u001b[39;00m _global_forward_pre_hooks):\n\u001b[1;32m-> 1130\u001b[0m     \u001b[39mreturn\u001b[39;00m forward_call(\u001b[39m*\u001b[39m\u001b[39minput\u001b[39m, \u001b[39m*\u001b[39m\u001b[39m*\u001b[39mkwargs)\n\u001b[0;32m   1131\u001b[0m \u001b[39m# Do not call functions when jit is used\u001b[39;00m\n\u001b[0;32m   1132\u001b[0m full_backward_hooks, non_full_backward_hooks \u001b[39m=\u001b[39m [], []\n",
      "File \u001b[1;32m~\\AppData\\Roaming\\Python\\Python310\\site-packages\\torch\\nn\\modules\\container.py:139\u001b[0m, in \u001b[0;36mSequential.forward\u001b[1;34m(self, input)\u001b[0m\n\u001b[0;32m    137\u001b[0m \u001b[39mdef\u001b[39;00m \u001b[39mforward\u001b[39m(\u001b[39mself\u001b[39m, \u001b[39minput\u001b[39m):\n\u001b[0;32m    138\u001b[0m     \u001b[39mfor\u001b[39;00m module \u001b[39min\u001b[39;00m \u001b[39mself\u001b[39m:\n\u001b[1;32m--> 139\u001b[0m         \u001b[39minput\u001b[39m \u001b[39m=\u001b[39m module(\u001b[39minput\u001b[39;49m)\n\u001b[0;32m    140\u001b[0m     \u001b[39mreturn\u001b[39;00m \u001b[39minput\u001b[39m\n",
      "File \u001b[1;32m~\\AppData\\Roaming\\Python\\Python310\\site-packages\\torch\\nn\\modules\\module.py:1130\u001b[0m, in \u001b[0;36mModule._call_impl\u001b[1;34m(self, *input, **kwargs)\u001b[0m\n\u001b[0;32m   1126\u001b[0m \u001b[39m# If we don't have any hooks, we want to skip the rest of the logic in\u001b[39;00m\n\u001b[0;32m   1127\u001b[0m \u001b[39m# this function, and just call forward.\u001b[39;00m\n\u001b[0;32m   1128\u001b[0m \u001b[39mif\u001b[39;00m \u001b[39mnot\u001b[39;00m (\u001b[39mself\u001b[39m\u001b[39m.\u001b[39m_backward_hooks \u001b[39mor\u001b[39;00m \u001b[39mself\u001b[39m\u001b[39m.\u001b[39m_forward_hooks \u001b[39mor\u001b[39;00m \u001b[39mself\u001b[39m\u001b[39m.\u001b[39m_forward_pre_hooks \u001b[39mor\u001b[39;00m _global_backward_hooks\n\u001b[0;32m   1129\u001b[0m         \u001b[39mor\u001b[39;00m _global_forward_hooks \u001b[39mor\u001b[39;00m _global_forward_pre_hooks):\n\u001b[1;32m-> 1130\u001b[0m     \u001b[39mreturn\u001b[39;00m forward_call(\u001b[39m*\u001b[39m\u001b[39minput\u001b[39m, \u001b[39m*\u001b[39m\u001b[39m*\u001b[39mkwargs)\n\u001b[0;32m   1131\u001b[0m \u001b[39m# Do not call functions when jit is used\u001b[39;00m\n\u001b[0;32m   1132\u001b[0m full_backward_hooks, non_full_backward_hooks \u001b[39m=\u001b[39m [], []\n",
      "File \u001b[1;32m~\\AppData\\Roaming\\Python\\Python310\\site-packages\\torch\\nn\\modules\\conv.py:457\u001b[0m, in \u001b[0;36mConv2d.forward\u001b[1;34m(self, input)\u001b[0m\n\u001b[0;32m    456\u001b[0m \u001b[39mdef\u001b[39;00m \u001b[39mforward\u001b[39m(\u001b[39mself\u001b[39m, \u001b[39minput\u001b[39m: Tensor) \u001b[39m-\u001b[39m\u001b[39m>\u001b[39m Tensor:\n\u001b[1;32m--> 457\u001b[0m     \u001b[39mreturn\u001b[39;00m \u001b[39mself\u001b[39;49m\u001b[39m.\u001b[39;49m_conv_forward(\u001b[39minput\u001b[39;49m, \u001b[39mself\u001b[39;49m\u001b[39m.\u001b[39;49mweight, \u001b[39mself\u001b[39;49m\u001b[39m.\u001b[39;49mbias)\n",
      "File \u001b[1;32m~\\AppData\\Roaming\\Python\\Python310\\site-packages\\torch\\nn\\modules\\conv.py:453\u001b[0m, in \u001b[0;36mConv2d._conv_forward\u001b[1;34m(self, input, weight, bias)\u001b[0m\n\u001b[0;32m    449\u001b[0m \u001b[39mif\u001b[39;00m \u001b[39mself\u001b[39m\u001b[39m.\u001b[39mpadding_mode \u001b[39m!=\u001b[39m \u001b[39m'\u001b[39m\u001b[39mzeros\u001b[39m\u001b[39m'\u001b[39m:\n\u001b[0;32m    450\u001b[0m     \u001b[39mreturn\u001b[39;00m F\u001b[39m.\u001b[39mconv2d(F\u001b[39m.\u001b[39mpad(\u001b[39minput\u001b[39m, \u001b[39mself\u001b[39m\u001b[39m.\u001b[39m_reversed_padding_repeated_twice, mode\u001b[39m=\u001b[39m\u001b[39mself\u001b[39m\u001b[39m.\u001b[39mpadding_mode),\n\u001b[0;32m    451\u001b[0m                     weight, bias, \u001b[39mself\u001b[39m\u001b[39m.\u001b[39mstride,\n\u001b[0;32m    452\u001b[0m                     _pair(\u001b[39m0\u001b[39m), \u001b[39mself\u001b[39m\u001b[39m.\u001b[39mdilation, \u001b[39mself\u001b[39m\u001b[39m.\u001b[39mgroups)\n\u001b[1;32m--> 453\u001b[0m \u001b[39mreturn\u001b[39;00m F\u001b[39m.\u001b[39;49mconv2d(\u001b[39minput\u001b[39;49m, weight, bias, \u001b[39mself\u001b[39;49m\u001b[39m.\u001b[39;49mstride,\n\u001b[0;32m    454\u001b[0m                 \u001b[39mself\u001b[39;49m\u001b[39m.\u001b[39;49mpadding, \u001b[39mself\u001b[39;49m\u001b[39m.\u001b[39;49mdilation, \u001b[39mself\u001b[39;49m\u001b[39m.\u001b[39;49mgroups)\n",
      "\u001b[1;31mRuntimeError\u001b[0m: Given groups=1, weight of size [32, 1, 3, 3], expected input[128, 3, 32, 32] to have 1 channels, but got 3 channels instead"
     ]
    }
   ],
   "source": [
    "cnn = CNN()\n",
    "optimizer = optim.SGD(cnn.parameters(), lr=0.1, momentum=0.9, weight_decay=5e-4)\n",
    "scheduler = torch.optim.lr_scheduler.CosineAnnealingLR(optimizer, T_max=200)\n",
    "\n",
    "epochs = 5\n",
    "for epoch in range(1, epochs + 1):\n",
    "    train(cnn, CIFAR10_train, optimizer, epoch, log_interval=100)\n",
    "    test(cnn, CIFAR10_test)    \n",
    "    scheduler.step()"
   ]
  },
  {
   "cell_type": "markdown",
   "metadata": {},
   "source": [
    "This will not work. You should see the following error message\n",
    "\n",
    "```\n",
    "Given groups=1, weight of size [32, 1, 3, 3], expected input[128, 3, 32, 32] to have 1 channels, but got 3 channels instead\n",
    "```\n",
    "\n",
    "This error is telling us that something is not right in the definition of our model. Copy the CNN class from above and make changes, so the training works."
   ]
  },
  {
   "cell_type": "code",
   "execution_count": 25,
   "metadata": {},
   "outputs": [],
   "source": [
    "#########################################################################\n",
    "# TODO: Adapt the definition from the CNN class above to work on CIFAR.\n",
    "# You can copy and run the following prompt for evaluation:\n",
    "# CNN()(torch.randn(1,3,32,32)).shape\n",
    "# It should print 'torch.Size([1, 10])'\n",
    "# Hint: You need to change 2 things. \n",
    "#########################################################################\n",
    "\n",
    "class CNN_CIFAR(nn.Module):\n",
    "    def __init__(self):\n",
    "        super(CNN_CIFAR, self).__init__()\n",
    "        # input 1 x 3 x 32 x 32\n",
    "        Conv_Layers = [\n",
    "            nn.Conv2d(3, 32, kernel_size=3, stride=1, padding=0),\n",
    "            nn.ReLU(),\n",
    "            nn.Conv2d(32, 64, kernel_size=3, stride=1, padding=0),\n",
    "            nn.ReLU(),\n",
    "            nn.MaxPool2d(kernel_size=2, stride=2, padding=0),\n",
    "            nn.Dropout(p=0.25),\n",
    "        ]\n",
    "        Linear_Layers = [\n",
    "            nn.Linear(12544, 128, bias=True),\n",
    "            nn.ReLU(),\n",
    "            nn.Dropout(p=0.5),\n",
    "            nn.Linear(128, 10, bias=True)\n",
    "        ]\n",
    "\n",
    "        self.Conv_Layers = nn.Sequential(*Conv_Layers)\n",
    "        self.Linear_Layers = nn.Sequential(*Linear_Layers)\n",
    "\n",
    "    def forward(self, x):\n",
    "        x = self.Conv_Layers(x) # torch.Size([1, 64, 14, 14])\n",
    "        x = torch.flatten(x, 1, 3) # torch.Size([1, 12544])\n",
    "        x = self.Linear_Layers(x) # torch.Size([1, 10])\n",
    "        return x"
   ]
  },
  {
   "cell_type": "code",
   "execution_count": 38,
   "metadata": {},
   "outputs": [
    {
     "data": {
      "text/plain": [
       "torch.Size([1, 10])"
      ]
     },
     "execution_count": 38,
     "metadata": {},
     "output_type": "execute_result"
    }
   ],
   "source": [
    "CNN_CIFAR()(torch.randn(1,3,32,32)).shape"
   ]
  },
  {
   "cell_type": "markdown",
   "metadata": {},
   "source": [
    "Let's try again"
   ]
  },
  {
   "cell_type": "code",
   "execution_count": 39,
   "metadata": {
    "scrolled": true
   },
   "outputs": [
    {
     "name": "stdout",
     "output_type": "stream",
     "text": [
      "Train Epoch: 1 [0/50000 (0%)]\tLoss: 296.299835\n",
      "Train Epoch: 1 [12800/50000 (26%)]\tLoss: 292.769257\n",
      "Train Epoch: 1 [25600/50000 (51%)]\tLoss: 291.932983\n",
      "Train Epoch: 1 [38400/50000 (77%)]\tLoss: 273.779510\n",
      "\n",
      "Train set: Average loss: 159.0242, Accuracy: 8488/50000 (17.0%)\n",
      "Test set: Average loss: 2.0181, Accuracy: 2342/10000 (23.420%)\n",
      "\n",
      "Train Epoch: 2 [0/50000 (0%)]\tLoss: 271.065033\n",
      "Train Epoch: 2 [12800/50000 (26%)]\tLoss: 235.294449\n",
      "Train Epoch: 2 [25600/50000 (51%)]\tLoss: 241.890991\n",
      "Train Epoch: 2 [38400/50000 (77%)]\tLoss: 229.940475\n",
      "\n",
      "Train set: Average loss: 141.5549, Accuracy: 13636/50000 (27.3%)\n",
      "Test set: Average loss: 1.7318, Accuracy: 3586/10000 (35.860%)\n",
      "\n",
      "Train Epoch: 3 [0/50000 (0%)]\tLoss: 246.941055\n",
      "Train Epoch: 3 [12800/50000 (26%)]\tLoss: 232.051758\n",
      "Train Epoch: 3 [25600/50000 (51%)]\tLoss: 242.513992\n",
      "Train Epoch: 3 [38400/50000 (77%)]\tLoss: 226.533783\n",
      "\n",
      "Train set: Average loss: 148.7781, Accuracy: 15803/50000 (31.6%)\n",
      "Test set: Average loss: 1.6222, Accuracy: 3916/10000 (39.160%)\n",
      "\n",
      "Train Epoch: 4 [0/50000 (0%)]\tLoss: 232.736267\n",
      "Train Epoch: 4 [12800/50000 (26%)]\tLoss: 219.265350\n",
      "Train Epoch: 4 [25600/50000 (51%)]\tLoss: 247.479523\n",
      "Train Epoch: 4 [38400/50000 (77%)]\tLoss: 230.602081\n",
      "\n",
      "Train set: Average loss: 145.2295, Accuracy: 16501/50000 (33.0%)\n",
      "Test set: Average loss: 1.6101, Accuracy: 4202/10000 (42.020%)\n",
      "\n",
      "Train Epoch: 5 [0/50000 (0%)]\tLoss: 231.334259\n",
      "Train Epoch: 5 [12800/50000 (26%)]\tLoss: 224.689651\n",
      "Train Epoch: 5 [25600/50000 (51%)]\tLoss: 261.003265\n",
      "Train Epoch: 5 [38400/50000 (77%)]\tLoss: 243.351227\n",
      "\n",
      "Train set: Average loss: 139.2894, Accuracy: 16622/50000 (33.2%)\n",
      "Test set: Average loss: 1.5885, Accuracy: 4223/10000 (42.230%)\n",
      "\n",
      "Train Epoch: 6 [0/50000 (0%)]\tLoss: 223.620758\n",
      "Train Epoch: 6 [12800/50000 (26%)]\tLoss: 206.196365\n",
      "Train Epoch: 6 [25600/50000 (51%)]\tLoss: 251.940857\n",
      "Train Epoch: 6 [38400/50000 (77%)]\tLoss: 238.604187\n",
      "\n",
      "Train set: Average loss: 144.2502, Accuracy: 17002/50000 (34.0%)\n",
      "Test set: Average loss: 1.6297, Accuracy: 3972/10000 (39.720%)\n",
      "\n",
      "Train Epoch: 7 [0/50000 (0%)]\tLoss: 249.147568\n",
      "Train Epoch: 7 [12800/50000 (26%)]\tLoss: 239.323593\n",
      "Train Epoch: 7 [25600/50000 (51%)]\tLoss: 234.337708\n",
      "Train Epoch: 7 [38400/50000 (77%)]\tLoss: 225.330841\n",
      "\n",
      "Train set: Average loss: 151.0713, Accuracy: 17454/50000 (34.9%)\n",
      "Test set: Average loss: 1.6239, Accuracy: 4093/10000 (40.930%)\n",
      "\n",
      "Train Epoch: 8 [0/50000 (0%)]\tLoss: 243.329605\n",
      "Train Epoch: 8 [12800/50000 (26%)]\tLoss: 230.621384\n",
      "Train Epoch: 8 [25600/50000 (51%)]\tLoss: 238.725372\n",
      "Train Epoch: 8 [38400/50000 (77%)]\tLoss: 220.677948\n",
      "\n",
      "Train set: Average loss: 152.1504, Accuracy: 17642/50000 (35.3%)\n",
      "Test set: Average loss: 1.5909, Accuracy: 4277/10000 (42.770%)\n",
      "\n",
      "Train Epoch: 9 [0/50000 (0%)]\tLoss: 225.429291\n",
      "Train Epoch: 9 [12800/50000 (26%)]\tLoss: 217.148834\n",
      "Train Epoch: 9 [25600/50000 (51%)]\tLoss: 229.901703\n",
      "Train Epoch: 9 [38400/50000 (77%)]\tLoss: 220.917938\n",
      "\n",
      "Train set: Average loss: 154.2135, Accuracy: 17664/50000 (35.3%)\n",
      "Test set: Average loss: 1.5438, Accuracy: 4365/10000 (43.650%)\n",
      "\n",
      "Train Epoch: 10 [0/50000 (0%)]\tLoss: 237.243805\n",
      "Train Epoch: 10 [12800/50000 (26%)]\tLoss: 222.220245\n",
      "Train Epoch: 10 [25600/50000 (51%)]\tLoss: 219.033936\n",
      "Train Epoch: 10 [38400/50000 (77%)]\tLoss: 210.065002\n",
      "\n",
      "Train set: Average loss: 139.3679, Accuracy: 17856/50000 (35.7%)\n",
      "Test set: Average loss: 1.5418, Accuracy: 4443/10000 (44.430%)\n",
      "\n"
     ]
    }
   ],
   "source": [
    "cnn_CIFAR = CNN_CIFAR()\n",
    "optimizer = optim.SGD(cnn_CIFAR.parameters(), lr=0.001, momentum=0.9, weight_decay=5e-4)\n",
    "scheduler = torch.optim.lr_scheduler.CosineAnnealingLR(optimizer, T_max=200)\n",
    "\n",
    "epochs = 10\n",
    "for epoch in range(1, epochs + 1):\n",
    "    train(cnn_CIFAR, CIFAR10_train, optimizer, epoch, log_interval=100)\n",
    "    test(cnn_CIFAR, CIFAR10_test)\n",
    "    scheduler.step()"
   ]
  },
  {
   "cell_type": "markdown",
   "metadata": {},
   "source": [
    "This should give 40 - 50 % - and if you are not already on Colab it will give you a stressed out laptop. The performance is a lot better than random, but we can definitely do better."
   ]
  },
  {
   "cell_type": "markdown",
   "metadata": {},
   "source": [
    "### Have fun with GPUs\n",
    "You can already call it a day until this point because we won't grade the rest of the excecise. You can have more fun with the rest :)\n"
   ]
  },
  {
   "cell_type": "code",
   "execution_count": 6,
   "metadata": {},
   "outputs": [
    {
     "name": "stdout",
     "output_type": "stream",
     "text": [
      "1.12.0+cu116\n"
     ]
    }
   ],
   "source": [
    "print(torch.__version__)"
   ]
  },
  {
   "cell_type": "markdown",
   "metadata": {},
   "source": [
    "If you didn't already, move to colab. To use a GPU, follow on the collaboratory menu tabs, \"Runtime\" => \"Change runtime type\" and set it to GPU. Then run the same training loop but now on GPU. "
   ]
  },
  {
   "cell_type": "code",
   "execution_count": 27,
   "metadata": {},
   "outputs": [
    {
     "name": "stdout",
     "output_type": "stream",
     "text": [
      "Train Epoch: 1 [0/50000 (0%)]\tLoss: 295.505066\n",
      "Train Epoch: 1 [12800/50000 (26%)]\tLoss: 234.099258\n",
      "Train Epoch: 1 [25600/50000 (51%)]\tLoss: 213.830414\n",
      "Train Epoch: 1 [38400/50000 (77%)]\tLoss: 208.442108\n",
      "\n",
      "Train set: Average loss: 132.4573, Accuracy: 17111/50000 (34.2%)\n",
      "Test set: Average loss: 1.4678, Accuracy: 4753/10000 (47.530%)\n",
      "\n",
      "Train Epoch: 2 [0/50000 (0%)]\tLoss: 213.440460\n",
      "Train Epoch: 2 [12800/50000 (26%)]\tLoss: 187.561249\n",
      "Train Epoch: 2 [25600/50000 (51%)]\tLoss: 200.927078\n",
      "Train Epoch: 2 [38400/50000 (77%)]\tLoss: 205.552582\n",
      "\n",
      "Train set: Average loss: 128.9967, Accuracy: 21503/50000 (43.0%)\n",
      "Test set: Average loss: 1.3450, Accuracy: 5169/10000 (51.690%)\n",
      "\n",
      "Train Epoch: 3 [0/50000 (0%)]\tLoss: 200.237640\n",
      "Train Epoch: 3 [12800/50000 (26%)]\tLoss: 161.648117\n",
      "Train Epoch: 3 [25600/50000 (51%)]\tLoss: 197.594391\n",
      "Train Epoch: 3 [38400/50000 (77%)]\tLoss: 180.726288\n",
      "\n",
      "Train set: Average loss: 101.8391, Accuracy: 22858/50000 (45.7%)\n",
      "Test set: Average loss: 1.2867, Accuracy: 5164/10000 (51.640%)\n",
      "\n",
      "Train Epoch: 4 [0/50000 (0%)]\tLoss: 182.536865\n",
      "Train Epoch: 4 [12800/50000 (26%)]\tLoss: 196.607834\n",
      "Train Epoch: 4 [25600/50000 (51%)]\tLoss: 204.101074\n",
      "Train Epoch: 4 [38400/50000 (77%)]\tLoss: 197.585388\n",
      "\n",
      "Train set: Average loss: 123.4545, Accuracy: 23784/50000 (47.6%)\n",
      "Test set: Average loss: 1.2589, Accuracy: 5492/10000 (54.920%)\n",
      "\n",
      "Train Epoch: 5 [0/50000 (0%)]\tLoss: 215.934311\n",
      "Train Epoch: 5 [12800/50000 (26%)]\tLoss: 183.130722\n",
      "Train Epoch: 5 [25600/50000 (51%)]\tLoss: 157.400879\n",
      "Train Epoch: 5 [38400/50000 (77%)]\tLoss: 177.983154\n",
      "\n",
      "Train set: Average loss: 124.6651, Accuracy: 24348/50000 (48.7%)\n",
      "Test set: Average loss: 1.2516, Accuracy: 5532/10000 (55.320%)\n",
      "\n",
      "Train Epoch: 6 [0/50000 (0%)]\tLoss: 165.542633\n",
      "Train Epoch: 6 [12800/50000 (26%)]\tLoss: 175.630005\n",
      "Train Epoch: 6 [25600/50000 (51%)]\tLoss: 176.174728\n",
      "Train Epoch: 6 [38400/50000 (77%)]\tLoss: 179.216171\n",
      "\n",
      "Train set: Average loss: 94.4202, Accuracy: 24969/50000 (49.9%)\n",
      "Test set: Average loss: 1.1303, Accuracy: 6096/10000 (60.960%)\n",
      "\n",
      "Train Epoch: 7 [0/50000 (0%)]\tLoss: 174.767639\n",
      "Train Epoch: 7 [12800/50000 (26%)]\tLoss: 158.491653\n",
      "Train Epoch: 7 [25600/50000 (51%)]\tLoss: 172.326187\n",
      "Train Epoch: 7 [38400/50000 (77%)]\tLoss: 181.441452\n",
      "\n",
      "Train set: Average loss: 105.1643, Accuracy: 25092/50000 (50.2%)\n",
      "Test set: Average loss: 1.1613, Accuracy: 5867/10000 (58.670%)\n",
      "\n",
      "Train Epoch: 8 [0/50000 (0%)]\tLoss: 179.409302\n",
      "Train Epoch: 8 [12800/50000 (26%)]\tLoss: 169.655304\n",
      "Train Epoch: 8 [25600/50000 (51%)]\tLoss: 169.033524\n",
      "Train Epoch: 8 [38400/50000 (77%)]\tLoss: 163.926926\n",
      "\n",
      "Train set: Average loss: 103.0495, Accuracy: 25466/50000 (50.9%)\n",
      "Test set: Average loss: 1.1302, Accuracy: 6007/10000 (60.070%)\n",
      "\n",
      "Train Epoch: 9 [0/50000 (0%)]\tLoss: 168.604935\n",
      "Train Epoch: 9 [12800/50000 (26%)]\tLoss: 164.672516\n",
      "Train Epoch: 9 [25600/50000 (51%)]\tLoss: 179.841812\n",
      "Train Epoch: 9 [38400/50000 (77%)]\tLoss: 199.856827\n",
      "\n",
      "Train set: Average loss: 119.3988, Accuracy: 25607/50000 (51.2%)\n",
      "Test set: Average loss: 1.2053, Accuracy: 5804/10000 (58.040%)\n",
      "\n",
      "Train Epoch: 10 [0/50000 (0%)]\tLoss: 166.056519\n",
      "Train Epoch: 10 [12800/50000 (26%)]\tLoss: 175.326263\n",
      "Train Epoch: 10 [25600/50000 (51%)]\tLoss: 186.751419\n",
      "Train Epoch: 10 [38400/50000 (77%)]\tLoss: 162.117157\n",
      "\n",
      "Train set: Average loss: 124.2412, Accuracy: 26170/50000 (52.3%)\n",
      "Test set: Average loss: 1.1738, Accuracy: 5814/10000 (58.140%)\n",
      "\n"
     ]
    }
   ],
   "source": [
    "device = 'cuda'\n",
    "if device == 'cuda': torch.backends.cudnn.benchmark = True # additional speed up\n",
    "\n",
    "cnn_CIFAR = CNN_CIFAR()\n",
    "optimizer = optim.SGD(cnn_CIFAR.parameters(), lr=0.0005, momentum=0.9, weight_decay=5e-4)\n",
    "scheduler = torch.optim.lr_scheduler.CosineAnnealingLR(optimizer, T_max=200)\n",
    "cnn_CIFAR = cnn_CIFAR.to(device)\n",
    "\n",
    "epochs = 10\n",
    "for epoch in range(1, epochs + 1):\n",
    "    train(cnn_CIFAR, CIFAR10_train, optimizer, epoch, log_interval=100, device=device)\n",
    "    test(cnn_CIFAR, CIFAR10_test, device=device)    \n",
    "    scheduler.step()"
   ]
  },
  {
   "cell_type": "markdown",
   "metadata": {},
   "source": [
    "This should be way faster now. But the true advantage of the GPU is that we can use much bigger models now and still train them in a reasonable amount of time. PyTorch is again very handy. The torchvision library comes with varies state-of-the-art model architectures, some of which you have seen in the lecture."
   ]
  },
  {
   "cell_type": "code",
   "execution_count": 29,
   "metadata": {},
   "outputs": [
    {
     "name": "stdout",
     "output_type": "stream",
     "text": [
      "ResNet(\n",
      "  (conv1): Conv2d(3, 64, kernel_size=(7, 7), stride=(2, 2), padding=(3, 3), bias=False)\n",
      "  (bn1): BatchNorm2d(64, eps=1e-05, momentum=0.1, affine=True, track_running_stats=True)\n",
      "  (relu): ReLU(inplace=True)\n",
      "  (maxpool): MaxPool2d(kernel_size=3, stride=2, padding=1, dilation=1, ceil_mode=False)\n",
      "  (layer1): Sequential(\n",
      "    (0): BasicBlock(\n",
      "      (conv1): Conv2d(64, 64, kernel_size=(3, 3), stride=(1, 1), padding=(1, 1), bias=False)\n",
      "      (bn1): BatchNorm2d(64, eps=1e-05, momentum=0.1, affine=True, track_running_stats=True)\n",
      "      (relu): ReLU(inplace=True)\n",
      "      (conv2): Conv2d(64, 64, kernel_size=(3, 3), stride=(1, 1), padding=(1, 1), bias=False)\n",
      "      (bn2): BatchNorm2d(64, eps=1e-05, momentum=0.1, affine=True, track_running_stats=True)\n",
      "    )\n",
      "    (1): BasicBlock(\n",
      "      (conv1): Conv2d(64, 64, kernel_size=(3, 3), stride=(1, 1), padding=(1, 1), bias=False)\n",
      "      (bn1): BatchNorm2d(64, eps=1e-05, momentum=0.1, affine=True, track_running_stats=True)\n",
      "      (relu): ReLU(inplace=True)\n",
      "      (conv2): Conv2d(64, 64, kernel_size=(3, 3), stride=(1, 1), padding=(1, 1), bias=False)\n",
      "      (bn2): BatchNorm2d(64, eps=1e-05, momentum=0.1, affine=True, track_running_stats=True)\n",
      "    )\n",
      "  )\n",
      "  (layer2): Sequential(\n",
      "    (0): BasicBlock(\n",
      "      (conv1): Conv2d(64, 128, kernel_size=(3, 3), stride=(2, 2), padding=(1, 1), bias=False)\n",
      "      (bn1): BatchNorm2d(128, eps=1e-05, momentum=0.1, affine=True, track_running_stats=True)\n",
      "      (relu): ReLU(inplace=True)\n",
      "      (conv2): Conv2d(128, 128, kernel_size=(3, 3), stride=(1, 1), padding=(1, 1), bias=False)\n",
      "      (bn2): BatchNorm2d(128, eps=1e-05, momentum=0.1, affine=True, track_running_stats=True)\n",
      "      (downsample): Sequential(\n",
      "        (0): Conv2d(64, 128, kernel_size=(1, 1), stride=(2, 2), bias=False)\n",
      "        (1): BatchNorm2d(128, eps=1e-05, momentum=0.1, affine=True, track_running_stats=True)\n",
      "      )\n",
      "    )\n",
      "    (1): BasicBlock(\n",
      "      (conv1): Conv2d(128, 128, kernel_size=(3, 3), stride=(1, 1), padding=(1, 1), bias=False)\n",
      "      (bn1): BatchNorm2d(128, eps=1e-05, momentum=0.1, affine=True, track_running_stats=True)\n",
      "      (relu): ReLU(inplace=True)\n",
      "      (conv2): Conv2d(128, 128, kernel_size=(3, 3), stride=(1, 1), padding=(1, 1), bias=False)\n",
      "      (bn2): BatchNorm2d(128, eps=1e-05, momentum=0.1, affine=True, track_running_stats=True)\n",
      "    )\n",
      "  )\n",
      "  (layer3): Sequential(\n",
      "    (0): BasicBlock(\n",
      "      (conv1): Conv2d(128, 256, kernel_size=(3, 3), stride=(2, 2), padding=(1, 1), bias=False)\n",
      "      (bn1): BatchNorm2d(256, eps=1e-05, momentum=0.1, affine=True, track_running_stats=True)\n",
      "      (relu): ReLU(inplace=True)\n",
      "      (conv2): Conv2d(256, 256, kernel_size=(3, 3), stride=(1, 1), padding=(1, 1), bias=False)\n",
      "      (bn2): BatchNorm2d(256, eps=1e-05, momentum=0.1, affine=True, track_running_stats=True)\n",
      "      (downsample): Sequential(\n",
      "        (0): Conv2d(128, 256, kernel_size=(1, 1), stride=(2, 2), bias=False)\n",
      "        (1): BatchNorm2d(256, eps=1e-05, momentum=0.1, affine=True, track_running_stats=True)\n",
      "      )\n",
      "    )\n",
      "    (1): BasicBlock(\n",
      "      (conv1): Conv2d(256, 256, kernel_size=(3, 3), stride=(1, 1), padding=(1, 1), bias=False)\n",
      "      (bn1): BatchNorm2d(256, eps=1e-05, momentum=0.1, affine=True, track_running_stats=True)\n",
      "      (relu): ReLU(inplace=True)\n",
      "      (conv2): Conv2d(256, 256, kernel_size=(3, 3), stride=(1, 1), padding=(1, 1), bias=False)\n",
      "      (bn2): BatchNorm2d(256, eps=1e-05, momentum=0.1, affine=True, track_running_stats=True)\n",
      "    )\n",
      "  )\n",
      "  (layer4): Sequential(\n",
      "    (0): BasicBlock(\n",
      "      (conv1): Conv2d(256, 512, kernel_size=(3, 3), stride=(2, 2), padding=(1, 1), bias=False)\n",
      "      (bn1): BatchNorm2d(512, eps=1e-05, momentum=0.1, affine=True, track_running_stats=True)\n",
      "      (relu): ReLU(inplace=True)\n",
      "      (conv2): Conv2d(512, 512, kernel_size=(3, 3), stride=(1, 1), padding=(1, 1), bias=False)\n",
      "      (bn2): BatchNorm2d(512, eps=1e-05, momentum=0.1, affine=True, track_running_stats=True)\n",
      "      (downsample): Sequential(\n",
      "        (0): Conv2d(256, 512, kernel_size=(1, 1), stride=(2, 2), bias=False)\n",
      "        (1): BatchNorm2d(512, eps=1e-05, momentum=0.1, affine=True, track_running_stats=True)\n",
      "      )\n",
      "    )\n",
      "    (1): BasicBlock(\n",
      "      (conv1): Conv2d(512, 512, kernel_size=(3, 3), stride=(1, 1), padding=(1, 1), bias=False)\n",
      "      (bn1): BatchNorm2d(512, eps=1e-05, momentum=0.1, affine=True, track_running_stats=True)\n",
      "      (relu): ReLU(inplace=True)\n",
      "      (conv2): Conv2d(512, 512, kernel_size=(3, 3), stride=(1, 1), padding=(1, 1), bias=False)\n",
      "      (bn2): BatchNorm2d(512, eps=1e-05, momentum=0.1, affine=True, track_running_stats=True)\n",
      "    )\n",
      "  )\n",
      "  (avgpool): AdaptiveAvgPool2d(output_size=(1, 1))\n",
      "  (fc): Linear(in_features=512, out_features=1000, bias=True)\n",
      ")\n"
     ]
    }
   ],
   "source": [
    "from torchvision.models import resnet18\n",
    "cnn_ResNet = resnet18()\n",
    "print(cnn_ResNet)"
   ]
  },
  {
   "cell_type": "markdown",
   "metadata": {},
   "source": [
    "Looks scary! But the only thing you need to change to make it work on CIFAR is the last layer.\n",
    "Currently the last layer is:\n",
    "```\n",
    "  (fc): Linear(in_features=512, out_features=1000, bias=True)\n",
    "```\n",
    "out_features is the number of classes. This models are developed for Imagenet, a dataset with 1000 classes. So this part of the model you need to adapt. Additionally, you need to add a log-softmax layer again, as we us negative log-likelihood as the training criterion. "
   ]
  },
  {
   "cell_type": "code",
   "execution_count": 30,
   "metadata": {},
   "outputs": [],
   "source": [
    "#########################################################################\n",
    "# TODO: Adapt the Resnet to work on CIFAR\n",
    "#########################################################################\n",
    "cnn_ResNet.fc = nn.Sequential(\n",
    "    nn.Linear(in_features=512, out_features=10, bias=True),\n",
    "    nn.LogSoftmax(dim=1)\n",
    ")"
   ]
  },
  {
   "cell_type": "code",
   "execution_count": 31,
   "metadata": {},
   "outputs": [
    {
     "data": {
      "text/plain": [
       "torch.Size([16, 10])"
      ]
     },
     "execution_count": 31,
     "metadata": {},
     "output_type": "execute_result"
    }
   ],
   "source": [
    "# This should print 'torch.Size([16, 10])'\n",
    "cnn_ResNet(torch.randn(16,3,32,32)).shape"
   ]
  },
  {
   "cell_type": "code",
   "execution_count": 32,
   "metadata": {},
   "outputs": [
    {
     "name": "stdout",
     "output_type": "stream",
     "text": [
      "Train Epoch: 1 [0/50000 (0%)]\tLoss: 321.710449\n",
      "Train Epoch: 1 [12800/50000 (26%)]\tLoss: 255.063126\n",
      "Train Epoch: 1 [25600/50000 (51%)]\tLoss: 226.124557\n",
      "Train Epoch: 1 [38400/50000 (77%)]\tLoss: 212.154129\n",
      "\n",
      "Train set: Average loss: 114.6153, Accuracy: 18231/50000 (36.5%)\n",
      "Test set: Average loss: 1.4528, Accuracy: 4707/10000 (47.070%)\n",
      "\n",
      "Train Epoch: 2 [0/50000 (0%)]\tLoss: 181.595886\n",
      "Train Epoch: 2 [12800/50000 (26%)]\tLoss: 185.198746\n",
      "Train Epoch: 2 [25600/50000 (51%)]\tLoss: 183.346039\n",
      "Train Epoch: 2 [38400/50000 (77%)]\tLoss: 162.819351\n",
      "\n",
      "Train set: Average loss: 115.9327, Accuracy: 24805/50000 (49.6%)\n",
      "Test set: Average loss: 1.3417, Accuracy: 5444/10000 (54.440%)\n",
      "\n",
      "Train Epoch: 3 [0/50000 (0%)]\tLoss: 173.480865\n",
      "Train Epoch: 3 [12800/50000 (26%)]\tLoss: 153.651184\n",
      "Train Epoch: 3 [25600/50000 (51%)]\tLoss: 144.317032\n",
      "Train Epoch: 3 [38400/50000 (77%)]\tLoss: 152.602173\n",
      "\n",
      "Train set: Average loss: 96.2579, Accuracy: 28353/50000 (56.7%)\n",
      "Test set: Average loss: 1.1051, Accuracy: 6083/10000 (60.830%)\n",
      "\n",
      "Train Epoch: 4 [0/50000 (0%)]\tLoss: 165.257492\n",
      "Train Epoch: 4 [12800/50000 (26%)]\tLoss: 146.362305\n",
      "Train Epoch: 4 [25600/50000 (51%)]\tLoss: 156.306320\n",
      "Train Epoch: 4 [38400/50000 (77%)]\tLoss: 126.589149\n",
      "\n",
      "Train set: Average loss: 89.4139, Accuracy: 30857/50000 (61.7%)\n",
      "Test set: Average loss: 0.9962, Accuracy: 6537/10000 (65.370%)\n",
      "\n",
      "Train Epoch: 5 [0/50000 (0%)]\tLoss: 120.228668\n",
      "Train Epoch: 5 [12800/50000 (26%)]\tLoss: 135.192856\n",
      "Train Epoch: 5 [25600/50000 (51%)]\tLoss: 123.455498\n",
      "Train Epoch: 5 [38400/50000 (77%)]\tLoss: 129.950211\n",
      "\n",
      "Train set: Average loss: 80.7889, Accuracy: 32543/50000 (65.1%)\n",
      "Test set: Average loss: 0.9486, Accuracy: 6654/10000 (66.540%)\n",
      "\n",
      "Train Epoch: 6 [0/50000 (0%)]\tLoss: 133.897186\n",
      "Train Epoch: 6 [12800/50000 (26%)]\tLoss: 99.090767\n",
      "Train Epoch: 6 [25600/50000 (51%)]\tLoss: 102.468796\n",
      "Train Epoch: 6 [38400/50000 (77%)]\tLoss: 111.957657\n",
      "\n",
      "Train set: Average loss: 93.6835, Accuracy: 33947/50000 (67.9%)\n",
      "Test set: Average loss: 0.8789, Accuracy: 6958/10000 (69.580%)\n",
      "\n",
      "Train Epoch: 7 [0/50000 (0%)]\tLoss: 104.182671\n",
      "Train Epoch: 7 [12800/50000 (26%)]\tLoss: 125.108025\n",
      "Train Epoch: 7 [25600/50000 (51%)]\tLoss: 98.088203\n",
      "Train Epoch: 7 [38400/50000 (77%)]\tLoss: 132.608582\n",
      "\n",
      "Train set: Average loss: 69.9860, Accuracy: 34917/50000 (69.8%)\n",
      "Test set: Average loss: 0.8691, Accuracy: 6992/10000 (69.920%)\n",
      "\n",
      "Train Epoch: 8 [0/50000 (0%)]\tLoss: 94.985916\n",
      "Train Epoch: 8 [12800/50000 (26%)]\tLoss: 106.579880\n",
      "Train Epoch: 8 [25600/50000 (51%)]\tLoss: 87.838120\n",
      "Train Epoch: 8 [38400/50000 (77%)]\tLoss: 86.836243\n",
      "\n",
      "Train set: Average loss: 71.3186, Accuracy: 35783/50000 (71.6%)\n",
      "Test set: Average loss: 0.7815, Accuracy: 7273/10000 (72.730%)\n",
      "\n",
      "Train Epoch: 9 [0/50000 (0%)]\tLoss: 99.229485\n",
      "Train Epoch: 9 [12800/50000 (26%)]\tLoss: 85.024696\n",
      "Train Epoch: 9 [25600/50000 (51%)]\tLoss: 63.313675\n",
      "Train Epoch: 9 [38400/50000 (77%)]\tLoss: 90.124084\n",
      "\n",
      "Train set: Average loss: 69.3766, Accuracy: 36602/50000 (73.2%)\n",
      "Test set: Average loss: 0.7853, Accuracy: 7323/10000 (73.230%)\n",
      "\n",
      "Train Epoch: 10 [0/50000 (0%)]\tLoss: 106.576660\n",
      "Train Epoch: 10 [12800/50000 (26%)]\tLoss: 101.827835\n",
      "Train Epoch: 10 [25600/50000 (51%)]\tLoss: 90.247086\n",
      "Train Epoch: 10 [38400/50000 (77%)]\tLoss: 86.009560\n",
      "\n",
      "Train set: Average loss: 60.2771, Accuracy: 37258/50000 (74.5%)\n",
      "Test set: Average loss: 0.7011, Accuracy: 7602/10000 (76.020%)\n",
      "\n"
     ]
    }
   ],
   "source": [
    "device = 'cuda'\n",
    "if device == 'cuda': torch.backends.cudnn.benchmark = True # this gives us additional speed up\n",
    "\n",
    "optimizer = optim.SGD(cnn_ResNet.parameters(), lr=0.0005, momentum=0.9, weight_decay=5e-4)\n",
    "scheduler = torch.optim.lr_scheduler.CosineAnnealingLR(optimizer, T_max=200)\n",
    "cnn_ResNet = cnn_ResNet.to(device)\n",
    "\n",
    "epochs = 10\n",
    "for epoch in range(1, epochs + 1):\n",
    "    train(cnn_ResNet, CIFAR10_train, optimizer, epoch, log_interval=100, device=device)\n",
    "    test(cnn_ResNet, CIFAR10_test, device=device)    \n",
    "    scheduler.step()"
   ]
  },
  {
   "cell_type": "markdown",
   "metadata": {},
   "source": [
    "This should get us well above 75%, the best we got was ~ 80%.\n",
    "\n",
    "Now, use different torchvision architectures, different optimizers (Adam is always a good choice), data augmentation techniques, and hyperparameter search to achieve a test accuracy of >90 %"
   ]
  },
  {
   "cell_type": "code",
   "execution_count": 33,
   "metadata": {},
   "outputs": [
    {
     "name": "stdout",
     "output_type": "stream",
     "text": [
      "Train Epoch: 1 [0/50000 (0%)]\tLoss: 90.251366\n",
      "Train Epoch: 1 [12800/50000 (26%)]\tLoss: 93.445061\n",
      "Train Epoch: 1 [25600/50000 (51%)]\tLoss: 86.350266\n",
      "Train Epoch: 1 [38400/50000 (77%)]\tLoss: 95.243782\n",
      "\n",
      "Train set: Average loss: 56.3426, Accuracy: 37241/50000 (74.5%)\n",
      "Test set: Average loss: 0.6840, Accuracy: 7607/10000 (76.070%)\n",
      "\n",
      "Train Epoch: 2 [0/50000 (0%)]\tLoss: 92.669662\n",
      "Train Epoch: 2 [12800/50000 (26%)]\tLoss: 87.093178\n",
      "Train Epoch: 2 [25600/50000 (51%)]\tLoss: 99.349716\n",
      "Train Epoch: 2 [38400/50000 (77%)]\tLoss: 88.217712\n",
      "\n",
      "Train set: Average loss: 62.5187, Accuracy: 37983/50000 (76.0%)\n",
      "Test set: Average loss: 0.7134, Accuracy: 7545/10000 (75.450%)\n",
      "\n",
      "Train Epoch: 3 [0/50000 (0%)]\tLoss: 73.502983\n",
      "Train Epoch: 3 [12800/50000 (26%)]\tLoss: 88.952629\n",
      "Train Epoch: 3 [25600/50000 (51%)]\tLoss: 102.398209\n",
      "Train Epoch: 3 [38400/50000 (77%)]\tLoss: 69.493919\n",
      "\n",
      "Train set: Average loss: 54.6655, Accuracy: 38684/50000 (77.4%)\n",
      "Test set: Average loss: 0.6609, Accuracy: 7668/10000 (76.680%)\n",
      "\n",
      "Train Epoch: 4 [0/50000 (0%)]\tLoss: 82.290016\n",
      "Train Epoch: 4 [12800/50000 (26%)]\tLoss: 64.219673\n",
      "Train Epoch: 4 [25600/50000 (51%)]\tLoss: 91.949379\n",
      "Train Epoch: 4 [38400/50000 (77%)]\tLoss: 81.548996\n",
      "\n",
      "Train set: Average loss: 42.6070, Accuracy: 39161/50000 (78.3%)\n",
      "Test set: Average loss: 0.6408, Accuracy: 7774/10000 (77.740%)\n",
      "\n",
      "Train Epoch: 5 [0/50000 (0%)]\tLoss: 70.724472\n",
      "Train Epoch: 5 [12800/50000 (26%)]\tLoss: 86.534912\n",
      "Train Epoch: 5 [25600/50000 (51%)]\tLoss: 86.833702\n",
      "Train Epoch: 5 [38400/50000 (77%)]\tLoss: 78.878792\n",
      "\n",
      "Train set: Average loss: 56.1820, Accuracy: 39736/50000 (79.5%)\n",
      "Test set: Average loss: 0.6504, Accuracy: 7781/10000 (77.810%)\n",
      "\n",
      "Train Epoch: 6 [0/50000 (0%)]\tLoss: 74.259491\n",
      "Train Epoch: 6 [12800/50000 (26%)]\tLoss: 83.345566\n",
      "Train Epoch: 6 [25600/50000 (51%)]\tLoss: 74.681778\n",
      "Train Epoch: 6 [38400/50000 (77%)]\tLoss: 89.181931\n",
      "\n",
      "Train set: Average loss: 52.1640, Accuracy: 39952/50000 (79.9%)\n",
      "Test set: Average loss: 0.6080, Accuracy: 7898/10000 (78.980%)\n",
      "\n",
      "Train Epoch: 7 [0/50000 (0%)]\tLoss: 62.870716\n",
      "Train Epoch: 7 [12800/50000 (26%)]\tLoss: 75.635063\n",
      "Train Epoch: 7 [25600/50000 (51%)]\tLoss: 83.513786\n",
      "Train Epoch: 7 [38400/50000 (77%)]\tLoss: 83.762138\n",
      "\n",
      "Train set: Average loss: 37.9718, Accuracy: 40271/50000 (80.5%)\n",
      "Test set: Average loss: 0.6063, Accuracy: 7908/10000 (79.080%)\n",
      "\n",
      "Train Epoch: 8 [0/50000 (0%)]\tLoss: 48.677406\n",
      "Train Epoch: 8 [12800/50000 (26%)]\tLoss: 73.362839\n",
      "Train Epoch: 8 [25600/50000 (51%)]\tLoss: 48.704342\n",
      "Train Epoch: 8 [38400/50000 (77%)]\tLoss: 53.054207\n",
      "\n",
      "Train set: Average loss: 42.7984, Accuracy: 40714/50000 (81.4%)\n",
      "Test set: Average loss: 0.6335, Accuracy: 7846/10000 (78.460%)\n",
      "\n",
      "Train Epoch: 9 [0/50000 (0%)]\tLoss: 60.880756\n",
      "Train Epoch: 9 [12800/50000 (26%)]\tLoss: 56.017857\n",
      "Train Epoch: 9 [25600/50000 (51%)]\tLoss: 68.834335\n",
      "Train Epoch: 9 [38400/50000 (77%)]\tLoss: 76.135361\n",
      "\n",
      "Train set: Average loss: 35.8502, Accuracy: 40948/50000 (81.9%)\n",
      "Test set: Average loss: 0.6105, Accuracy: 7919/10000 (79.190%)\n",
      "\n",
      "Train Epoch: 10 [0/50000 (0%)]\tLoss: 51.394161\n",
      "Train Epoch: 10 [12800/50000 (26%)]\tLoss: 48.482956\n",
      "Train Epoch: 10 [25600/50000 (51%)]\tLoss: 74.854538\n",
      "Train Epoch: 10 [38400/50000 (77%)]\tLoss: 61.844067\n",
      "\n",
      "Train set: Average loss: 28.6771, Accuracy: 41223/50000 (82.4%)\n",
      "Test set: Average loss: 0.6080, Accuracy: 7972/10000 (79.720%)\n",
      "\n",
      "Train Epoch: 11 [0/50000 (0%)]\tLoss: 52.961128\n",
      "Train Epoch: 11 [12800/50000 (26%)]\tLoss: 51.370178\n",
      "Train Epoch: 11 [25600/50000 (51%)]\tLoss: 73.938225\n",
      "Train Epoch: 11 [38400/50000 (77%)]\tLoss: 64.780190\n",
      "\n",
      "Train set: Average loss: 42.2614, Accuracy: 41570/50000 (83.1%)\n",
      "Test set: Average loss: 0.5703, Accuracy: 8082/10000 (80.820%)\n",
      "\n",
      "Train Epoch: 12 [0/50000 (0%)]\tLoss: 40.484947\n",
      "Train Epoch: 12 [12800/50000 (26%)]\tLoss: 41.813110\n",
      "Train Epoch: 12 [25600/50000 (51%)]\tLoss: 58.595776\n",
      "Train Epoch: 12 [38400/50000 (77%)]\tLoss: 43.240738\n",
      "\n",
      "Train set: Average loss: 53.7071, Accuracy: 41853/50000 (83.7%)\n",
      "Test set: Average loss: 0.5663, Accuracy: 8083/10000 (80.830%)\n",
      "\n",
      "Train Epoch: 13 [0/50000 (0%)]\tLoss: 48.097000\n",
      "Train Epoch: 13 [12800/50000 (26%)]\tLoss: 70.414513\n",
      "Train Epoch: 13 [25600/50000 (51%)]\tLoss: 74.276886\n",
      "Train Epoch: 13 [38400/50000 (77%)]\tLoss: 71.823524\n",
      "\n",
      "Train set: Average loss: 39.5338, Accuracy: 41954/50000 (83.9%)\n",
      "Test set: Average loss: 0.5739, Accuracy: 8054/10000 (80.540%)\n",
      "\n",
      "Train Epoch: 14 [0/50000 (0%)]\tLoss: 64.490372\n",
      "Train Epoch: 14 [12800/50000 (26%)]\tLoss: 81.419350\n",
      "Train Epoch: 14 [25600/50000 (51%)]\tLoss: 62.380882\n",
      "Train Epoch: 14 [38400/50000 (77%)]\tLoss: 55.344650\n",
      "\n",
      "Train set: Average loss: 31.3096, Accuracy: 42337/50000 (84.7%)\n",
      "Test set: Average loss: 0.5533, Accuracy: 8141/10000 (81.410%)\n",
      "\n",
      "Train Epoch: 15 [0/50000 (0%)]\tLoss: 74.716309\n",
      "Train Epoch: 15 [12800/50000 (26%)]\tLoss: 46.109520\n",
      "Train Epoch: 15 [25600/50000 (51%)]\tLoss: 58.991783\n",
      "Train Epoch: 15 [38400/50000 (77%)]\tLoss: 50.339699\n",
      "\n",
      "Train set: Average loss: 38.6494, Accuracy: 42505/50000 (85.0%)\n",
      "Test set: Average loss: 0.5614, Accuracy: 8166/10000 (81.660%)\n",
      "\n"
     ]
    }
   ],
   "source": [
    "device = 'cuda'\n",
    "if device == 'cuda': torch.backends.cudnn.benchmark = True # this gives us additional speed up\n",
    "\n",
    "optimizer = optim.Adam(cnn_ResNet.parameters(), lr=0.001)\n",
    "scheduler = torch.optim.lr_scheduler.CosineAnnealingLR(optimizer, T_max=200)\n",
    "cnn_ResNet = cnn_ResNet.to(device)\n",
    "\n",
    "epochs = 15\n",
    "for epoch in range(1, epochs + 1):\n",
    "    train(cnn_ResNet, CIFAR10_train, optimizer, epoch, log_interval=100, device=device)\n",
    "    test(cnn_ResNet, CIFAR10_test, device=device)    \n",
    "    scheduler.step()"
   ]
  }
 ],
 "metadata": {
  "kernelspec": {
   "display_name": "Python 3.10.7 64-bit",
   "language": "python",
   "name": "python3"
  },
  "language_info": {
   "codemirror_mode": {
    "name": "ipython",
    "version": 3
   },
   "file_extension": ".py",
   "mimetype": "text/x-python",
   "name": "python",
   "nbconvert_exporter": "python",
   "pygments_lexer": "ipython3",
   "version": "3.10.7"
  },
  "vscode": {
   "interpreter": {
    "hash": "26de051ba29f2982a8de78e945f0abaf191376122a1563185a90213a26c5da77"
   }
  }
 },
 "nbformat": 4,
 "nbformat_minor": 4
}
